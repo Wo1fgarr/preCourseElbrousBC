{
 "cells": [
  {
   "cell_type": "code",
   "execution_count": 70,
   "metadata": {},
   "outputs": [
    {
     "name": "stdout",
     "output_type": "stream",
     "text": [
      "zz\n",
      "zz\n",
      "zz\n",
      "zy\n",
      "yk\n",
      "kk\n",
      "kk\n",
      "kd\n",
      "d\n",
      "None\n"
     ]
    }
   ],
   "source": [
    "# ваше решение:\n",
    "def doubles(s):\n",
    "    result = ''\n",
    "    # for i, char in enumerate(s):\n",
    "    #     print(i, char)\n",
    "\n",
    "    # s_list = map(''.join, zip(*[iter(s)]*2)) \n",
    "    \n",
    "    for x in range(0, len(s)): \n",
    "        print((s[x:x+2]))\n",
    "        # if len(s[x:x+1]) > 1:\n",
    "        #     current_char, next_char = s[x:x+1] \n",
    "        #     print(current_char,next_char)   \n",
    "    #     if len(s[x:x+2]) > 1:\n",
    "    #         a, b = s[x:x+2]\n",
    "    #         result += a+b if a != b else ''\n",
    "    #     else:\n",
    "    #         result += s[x:x+2]\n",
    "    # return result\n",
    "    \n",
    "    \n",
    "\n",
    "# print(doubles('abbbzz'))\n",
    "print(doubles('zzzzykkkd'))\n",
    "# print(doubles('abbcccdddda'))\n",
    "# print(doubles('vvvvvoiiiiin'))\n",
    "# print(doubles('rrrmooomqqqqj'))\n",
    "\n",
    "# print(doubles('abbbzz') == 'ab')\n",
    "# print(doubles('zzzzykkkd') == 'ykd')\n",
    "# print(doubles('abbcccdddda') == 'aca')\n",
    "# print(doubles('vvvvvoiiiiin') == 'voin')\n",
    "# print(doubles('rrrmooomqqqqj') == 'rmomj')"
   ]
  }
 ],
 "metadata": {
  "kernelspec": {
   "display_name": "Python 3",
   "language": "python",
   "name": "python3"
  },
  "language_info": {
   "codemirror_mode": {
    "name": "ipython",
    "version": 3
   },
   "file_extension": ".py",
   "mimetype": "text/x-python",
   "name": "python",
   "nbconvert_exporter": "python",
   "pygments_lexer": "ipython3",
   "version": "3.11.0"
  },
  "orig_nbformat": 4
 },
 "nbformat": 4,
 "nbformat_minor": 2
}
