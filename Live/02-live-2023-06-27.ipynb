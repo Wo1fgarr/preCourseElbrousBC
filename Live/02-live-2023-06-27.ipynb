{
 "cells": [
  {
   "cell_type": "code",
   "execution_count": null,
   "id": "507e614a-e015-48d6-9bda-21a1f774eb1f",
   "metadata": {},
   "outputs": [],
   "source": [
    "# Есть нейросеть, которая предсказывает вероятность отнесения к тому или иному классу. \n",
    "# Нужно сделать функцию, которая принимает на вход список лейблов и словарь, где для каждой фотографии\n",
    "# есть список предсказаний позиционно совпадающий со списком лейблов. \n",
    "# Функция выдаёт словарь, где ключ - путь к фотографии, значение - наиболее вероятный класс/лейбл"
   ]
  },
  {
   "cell_type": "code",
   "execution_count": 1,
   "id": "6502f56b-1744-4339-b01c-795109d80d20",
   "metadata": {
    "tags": []
   },
   "outputs": [],
   "source": [
    "labels = ['cat', 'dog', 'person']\n",
    "predicts = {'prediction': [{'photo_path': 'user/img_8889.png', 'predicted_labels': [0.1, 0.2, 0.7]}, \n",
    "                           {'photo_path': 'user/img_8890.png', 'predicted_labels': [0.6, 0.2, 0.2]},\n",
    "                           {'photo_path': 'user/img_8809.png', 'predicted_labels': [0.1, 0.8, 0.1]}]}"
   ]
  },
  {
   "cell_type": "code",
   "execution_count": 16,
   "id": "e8526940-f482-4aba-a3d0-a8d8520c7fa6",
   "metadata": {
    "tags": []
   },
   "outputs": [
    {
     "data": {
      "text/plain": [
       "2"
      ]
     },
     "execution_count": 16,
     "metadata": {},
     "output_type": "execute_result"
    }
   ],
   "source": [
    "l = [0.1, 0.2, 0.7]\n",
    "l.index(max(l))"
   ]
  },
  {
   "cell_type": "code",
   "execution_count": 12,
   "id": "70e202e6-db8c-4e74-b1ad-a15d34a8b1f1",
   "metadata": {
    "tags": []
   },
   "outputs": [
    {
     "data": {
      "text/plain": [
       "2"
      ]
     },
     "execution_count": 12,
     "metadata": {},
     "output_type": "execute_result"
    }
   ],
   "source": [
    "# for item in \n",
    "\n",
    "predicts['prediction'][0]['predicted_labels'].index(max(predicts['prediction'][0]['predicted_labels']))"
   ]
  },
  {
   "cell_type": "code",
   "execution_count": 18,
   "id": "4d102e59-5af8-4076-98e1-f4e46466d1f4",
   "metadata": {
    "tags": []
   },
   "outputs": [
    {
     "data": {
      "text/plain": [
       "{'user/img_8889.png': 'person',\n",
       " 'user/img_8890.png': 'cat',\n",
       " 'user/img_8809.png': 'dog'}"
      ]
     },
     "execution_count": 18,
     "metadata": {},
     "output_type": "execute_result"
    }
   ],
   "source": [
    "result = {}\n",
    "for pred in predicts['prediction']:   \n",
    "    prob_labels = pred['predicted_labels']\n",
    "    max_value = max(prob_labels)\n",
    "    idx = prob_labels.index(max_value)\n",
    "    pred_label = labels[idx]\n",
    "    \n",
    "    result[pred['photo_path']] = pred_label\n",
    "\n",
    "result"
   ]
  },
  {
   "cell_type": "code",
   "execution_count": null,
   "id": "ded72490-b380-42b3-9350-7d89cdd951d1",
   "metadata": {},
   "outputs": [],
   "source": [
    "result = {}\n",
    "for pred in predicts['prediction']:   \n",
    "    max_value = max(pred['predicted_labels'])\n",
    "    idx = pred['predicted_labels'].index(max_value)\n",
    "    pred_label = labels[idx]\n",
    "    \n",
    "    result[pred['photo_path']] = pred_label\n",
    "\n",
    "result"
   ]
  },
  {
   "cell_type": "code",
   "execution_count": null,
   "id": "f0110b8d-7377-4ce7-9f0f-629495a91067",
   "metadata": {},
   "outputs": [],
   "source": []
  },
  {
   "cell_type": "code",
   "execution_count": 36,
   "id": "a737361f-e47a-452c-8680-3f8f3a8e94e7",
   "metadata": {
    "tags": []
   },
   "outputs": [],
   "source": [
    "def get_labels_1(labels: list, preds: dict) -> dict:\n",
    "    result = {}\n",
    "    for pred in preds['prediction']:   \n",
    "        prob_labels = pred['predicted_labels']\n",
    "        idx = prob_labels.index(max(prob_labels))\n",
    "        result[pred['photo_path']] = labels[idx]\n",
    "        \n",
    "    return result "
   ]
  },
  {
   "cell_type": "code",
   "execution_count": 37,
   "id": "e9df0148-5aaa-43a6-84cd-8f0a788df818",
   "metadata": {
    "tags": []
   },
   "outputs": [
    {
     "name": "stdout",
     "output_type": "stream",
     "text": [
      "610 ns ± 2.55 ns per loop (mean ± std. dev. of 7 runs, 1,000,000 loops each)\n"
     ]
    }
   ],
   "source": [
    "%%timeit\n",
    "\n",
    "get_labels_1(labels, predicts) # == {'user/img_8889.png':'person', 'user/img_8890.png':'cat', 'user/img_8809.png':'dog'}"
   ]
  },
  {
   "cell_type": "code",
   "execution_count": 6,
   "id": "be209603-8ac4-4585-bd8b-e71f6d6c8484",
   "metadata": {
    "tags": []
   },
   "outputs": [],
   "source": [
    "get_labels(labels, predicts)"
   ]
  },
  {
   "cell_type": "code",
   "execution_count": null,
   "id": "d322b032-3f36-4af1-8cfd-77ff0681672d",
   "metadata": {},
   "outputs": [],
   "source": []
  },
  {
   "cell_type": "code",
   "execution_count": 38,
   "id": "a33ce8a9-53e9-4de2-a6bf-cf2fcea43075",
   "metadata": {
    "tags": []
   },
   "outputs": [],
   "source": [
    "def get_labels_2(labels: list, preds: dict) -> dict:\n",
    "    return {pred['photo_path']:labels[pred['predicted_labels'].index(max(pred['predicted_labels']))]\n",
    "            for pred in preds['prediction']} "
   ]
  },
  {
   "cell_type": "code",
   "execution_count": 39,
   "id": "a8e2d45e-ac40-4b9f-81d2-9f5637e6f1eb",
   "metadata": {
    "tags": []
   },
   "outputs": [
    {
     "name": "stdout",
     "output_type": "stream",
     "text": [
      "718 ns ± 1.54 ns per loop (mean ± std. dev. of 7 runs, 1,000,000 loops each)\n"
     ]
    }
   ],
   "source": [
    "%%timeit\n",
    "\n",
    "get_labels_2(labels, predicts) # == {'user/img_8889.png':'person', 'user/img_8890.png':'cat', 'user/img_8809.png':'dog'}"
   ]
  },
  {
   "cell_type": "code",
   "execution_count": null,
   "id": "4247b09c-bc4c-4f76-a543-e0f013aa7f01",
   "metadata": {},
   "outputs": [],
   "source": []
  },
  {
   "cell_type": "code",
   "execution_count": null,
   "id": "4b495f05-41e2-4f54-ad4f-8c6c53a62a28",
   "metadata": {},
   "outputs": [],
   "source": []
  },
  {
   "cell_type": "code",
   "execution_count": 40,
   "id": "df0abe16-3249-4b4a-936b-469149916b8c",
   "metadata": {
    "tags": []
   },
   "outputs": [
    {
     "data": {
      "text/plain": [
       "dict"
      ]
     },
     "execution_count": 40,
     "metadata": {},
     "output_type": "execute_result"
    }
   ],
   "source": [
    "d = {}\n",
    "type(d)"
   ]
  },
  {
   "cell_type": "code",
   "execution_count": 41,
   "id": "4868b298-8e79-44e3-9fce-4ef143700ff8",
   "metadata": {
    "tags": []
   },
   "outputs": [],
   "source": [
    "d['key'] = 42"
   ]
  },
  {
   "cell_type": "code",
   "execution_count": 44,
   "id": "b73193d4-b519-492d-8711-38857615d9f8",
   "metadata": {
    "tags": []
   },
   "outputs": [],
   "source": [
    "d[(1, 2)] = 3.14"
   ]
  },
  {
   "cell_type": "code",
   "execution_count": 46,
   "id": "21b8ecfb-4e0d-4be4-9c86-495f7779b422",
   "metadata": {
    "tags": []
   },
   "outputs": [
    {
     "ename": "TypeError",
     "evalue": "unhashable type: 'list'",
     "output_type": "error",
     "traceback": [
      "\u001b[0;31m---------------------------------------------------------------------------\u001b[0m",
      "\u001b[0;31mTypeError\u001b[0m                                 Traceback (most recent call last)",
      "Cell \u001b[0;32mIn[46], line 1\u001b[0m\n\u001b[0;32m----> 1\u001b[0m \u001b[43md\u001b[49m\u001b[43m[\u001b[49m\u001b[43m[\u001b[49m\u001b[38;5;241;43m1\u001b[39;49m\u001b[43m,\u001b[49m\u001b[43m \u001b[49m\u001b[38;5;241;43m2\u001b[39;49m\u001b[43m]\u001b[49m\u001b[43m]\u001b[49m \u001b[38;5;241m=\u001b[39m \u001b[38;5;241m404\u001b[39m\n",
      "\u001b[0;31mTypeError\u001b[0m: unhashable type: 'list'"
     ]
    }
   ],
   "source": [
    "d[[1, 2]] = 404"
   ]
  },
  {
   "cell_type": "code",
   "execution_count": null,
   "id": "92162de7-1704-4fa0-9d07-09582e557837",
   "metadata": {},
   "outputs": [],
   "source": [
    "[1, 2]"
   ]
  },
  {
   "cell_type": "code",
   "execution_count": null,
   "id": "8ad2900c-8adf-4b77-9202-2389470b0fa1",
   "metadata": {},
   "outputs": [],
   "source": []
  },
  {
   "cell_type": "code",
   "execution_count": 47,
   "id": "e0b4d903-8879-45a2-8004-a4b7ad4e9a9e",
   "metadata": {
    "tags": []
   },
   "outputs": [],
   "source": [
    "from collections import namedtuple, OrderedDict, Counter, ChainMap"
   ]
  },
  {
   "cell_type": "code",
   "execution_count": null,
   "id": "17d54de3-d80a-43d3-a041-5f8dcd6e8316",
   "metadata": {},
   "outputs": [],
   "source": [
    "from itertools import combinations"
   ]
  },
  {
   "cell_type": "code",
   "execution_count": null,
   "id": "feb3b93a-9d63-4843-900b-5d21173e580e",
   "metadata": {},
   "outputs": [],
   "source": [
    "from functools import reduce"
   ]
  },
  {
   "cell_type": "code",
   "execution_count": 50,
   "id": "0c3ce7ca-91f5-456c-b71d-24512d21a86d",
   "metadata": {
    "tags": []
   },
   "outputs": [],
   "source": [
    "from string import punctuation, ascii_letters"
   ]
  },
  {
   "cell_type": "code",
   "execution_count": 49,
   "id": "b158e1ad-32bc-41ec-86da-f47eecb67403",
   "metadata": {
    "tags": []
   },
   "outputs": [
    {
     "data": {
      "text/plain": [
       "'!\"#$%&\\'()*+,-./:;<=>?@[\\\\]^_`{|}~'"
      ]
     },
     "execution_count": 49,
     "metadata": {},
     "output_type": "execute_result"
    }
   ],
   "source": [
    "punctuation"
   ]
  },
  {
   "cell_type": "code",
   "execution_count": 51,
   "id": "f4e02ff1-cd9d-4767-8043-e9f6b7a362e8",
   "metadata": {
    "tags": []
   },
   "outputs": [
    {
     "data": {
      "text/plain": [
       "'abcdefghijklmnopqrstuvwxyzABCDEFGHIJKLMNOPQRSTUVWXYZ'"
      ]
     },
     "execution_count": 51,
     "metadata": {},
     "output_type": "execute_result"
    }
   ],
   "source": [
    "ascii_letters"
   ]
  },
  {
   "cell_type": "code",
   "execution_count": null,
   "id": "a677d839-7813-4cc8-9ed6-69065f86b20f",
   "metadata": {},
   "outputs": [],
   "source": []
  }
 ],
 "metadata": {
  "kernelspec": {
   "display_name": "Python 3 (ipykernel)",
   "language": "python",
   "name": "python3"
  },
  "language_info": {
   "codemirror_mode": {
    "name": "ipython",
    "version": 3
   },
   "file_extension": ".py",
   "mimetype": "text/x-python",
   "name": "python",
   "nbconvert_exporter": "python",
   "pygments_lexer": "ipython3",
   "version": "3.10.9"
  }
 },
 "nbformat": 4,
 "nbformat_minor": 5
}
