{
 "cells": [
  {
   "attachments": {},
   "cell_type": "markdown",
   "metadata": {
    "tags": []
   },
   "source": [
    "# привет, мир!\n",
    "<!-- ## привет, мир!\n",
    "### привет, мир! -->"
   ]
  },
  {
   "attachments": {},
   "cell_type": "markdown",
   "metadata": {
    "tags": []
   },
   "source": [
    "<div class=\"alert alert-success\">\n",
    "    Знакомство с языками программирования все начинают с приветствия мира!\n",
    "</div>"
   ]
  },
  {
   "attachments": {},
   "cell_type": "markdown",
   "metadata": {},
   "source": [
    "Функция `print()` является базовой для многих языков программирования. Чтобы функция (и любой написанный вами код) исполнялся в jupyter notebook, нужно вызвать исполнение ячейки через сочетание клавиш **`ctrl+enter`** (на mac вместо ctrl можно использовать control или command, а кнопка enter называется return) или нажав в строке управления *ноутбуком* на кнопку ***▸ Run***. Функция выводит на экран (в [***stdout***](https://ru.wikipedia.org/wiki/Стандартные_потоки)) значение, записанное внутри круглых скобок в качестве **аргумента** функции. Например, текст, который записывается в кавычках:"
   ]
  },
  {
   "cell_type": "code",
   "execution_count": 1,
   "metadata": {},
   "outputs": [
    {
     "name": "stdout",
     "output_type": "stream",
     "text": [
      "hello, world!\n"
     ]
    }
   ],
   "source": [
    "print(\"hello, world!\")"
   ]
  },
  {
   "attachments": {},
   "cell_type": "markdown",
   "metadata": {},
   "source": [
    "`ctrl+enter` - выполняет только ту ячейку, в которой находится пользователь и его курсор, перемещение внутрь ячейки происходит после нажатия внутрь ячейки. Понять какая активная ячейка можно по мигающему вертикальному курсору набора текста |\n",
    "\n",
    "Чтобы последовательно запускать ячейки подряд и \"перемещать\" курсор по ячейкам сверху вниз к следующей автоматически, можно использовать сочетание **`shift+enter`**. "
   ]
  },
  {
   "cell_type": "code",
   "execution_count": 2,
   "metadata": {},
   "outputs": [
    {
     "name": "stdout",
     "output_type": "stream",
     "text": [
      "привет, мир!\n"
     ]
    }
   ],
   "source": [
    "print(\"привет, мир!\")"
   ]
  },
  {
   "attachments": {},
   "cell_type": "markdown",
   "metadata": {},
   "source": [
    "<div class=\"alert alert-info\">\n",
    "  <strong>Тип данных! </strong>Текстовые данные в языках программирования называют \"строковые данные\" или просто \"строки\" - \"string\"\n",
    "</div>"
   ]
  },
  {
   "attachments": {},
   "cell_type": "markdown",
   "metadata": {},
   "source": [
    "    Внутрь функции print() можно передавать числа (без кавычек):\n"
   ]
  },
  {
   "cell_type": "code",
   "execution_count": 3,
   "metadata": {
    "scrolled": true
   },
   "outputs": [
    {
     "name": "stdout",
     "output_type": "stream",
     "text": [
      "404\n"
     ]
    }
   ],
   "source": [
    "print(404)"
   ]
  },
  {
   "attachments": {},
   "cell_type": "markdown",
   "metadata": {},
   "source": [
    "<div class=\"alert alert-info\">\n",
    "  <strong>Тип данных! </strong>Целые числа в python - int (integer)\n",
    "</div>"
   ]
  },
  {
   "cell_type": "code",
   "execution_count": 5,
   "metadata": {
    "scrolled": true
   },
   "outputs": [
    {
     "data": {
      "text/plain": [
       "3.14"
      ]
     },
     "execution_count": 5,
     "metadata": {},
     "output_type": "execute_result"
    }
   ],
   "source": [
    "3.14"
   ]
  },
  {
   "attachments": {},
   "cell_type": "markdown",
   "metadata": {},
   "source": [
    "<div class=\"alert alert-info\">\n",
    "  <strong>Тип данных! </strong>Вещественный тип чисел в python (с десятичным разделитем) - float\n",
    "</div>"
   ]
  },
  {
   "attachments": {},
   "cell_type": "markdown",
   "metadata": {},
   "source": [
    "- [подробнее про числа в python](https://pythonworld.ru/tipy-dannyx-v-python/chisla-int-float-complex.html)"
   ]
  },
  {
   "attachments": {},
   "cell_type": "markdown",
   "metadata": {},
   "source": [
    "    Если мы заключим число в кавычки, то это уже будет текст (строковый тип данных)!\n",
    "    \n",
    "    Но вывод функции print от этого не изменится, смотрите:"
   ]
  },
  {
   "cell_type": "code",
   "execution_count": 6,
   "metadata": {},
   "outputs": [
    {
     "name": "stdout",
     "output_type": "stream",
     "text": [
      "404\n"
     ]
    }
   ],
   "source": [
    "print(\"404\")"
   ]
  },
  {
   "cell_type": "code",
   "execution_count": 7,
   "metadata": {
    "scrolled": true
   },
   "outputs": [
    {
     "name": "stdout",
     "output_type": "stream",
     "text": [
      "3.14\n"
     ]
    }
   ],
   "source": [
    "print(\"3.14\")"
   ]
  },
  {
   "attachments": {},
   "cell_type": "markdown",
   "metadata": {},
   "source": [
    "    А также можно передавать выражения, вывод будет содержать уже результат вычисления записанного внутри:"
   ]
  },
  {
   "cell_type": "code",
   "execution_count": 8,
   "metadata": {},
   "outputs": [
    {
     "name": "stdout",
     "output_type": "stream",
     "text": [
      "4\n"
     ]
    }
   ],
   "source": [
    "print(2+2)"
   ]
  },
  {
   "attachments": {},
   "cell_type": "markdown",
   "metadata": {},
   "source": [
    "    Если не перадать аргументы в функцию и оставить скобки пустыми, то она будет работать как перенос строки или вертикальный отступ между двумя выводами:"
   ]
  },
  {
   "cell_type": "code",
   "execution_count": 9,
   "metadata": {},
   "outputs": [
    {
     "name": "stdout",
     "output_type": "stream",
     "text": [
      "привет, мир!\n",
      "\n",
      "привет, мир!\n"
     ]
    }
   ],
   "source": [
    "print(\"привет, мир!\")\n",
    "print()\n",
    "print(\"привет, мир!\")"
   ]
  },
  {
   "attachments": {},
   "cell_type": "markdown",
   "metadata": {},
   "source": [
    "# Комментарии"
   ]
  },
  {
   "attachments": {},
   "cell_type": "markdown",
   "metadata": {},
   "source": [
    "<div class=\"alert alert-info\">\n",
    "  <strong>Info! </strong>Чтобы вам и вашим коллегам программистам было понятно, что и как вы делаете, в вашем коде можно оставлять комментарии:\n",
    "</div>"
   ]
  },
  {
   "cell_type": "code",
   "execution_count": 10,
   "metadata": {
    "code_folding": []
   },
   "outputs": [
    {
     "name": "stdout",
     "output_type": "stream",
     "text": [
      "привет, мир!\n"
     ]
    }
   ],
   "source": [
    "# Один из способов комментирования является такая запись - вы начинаете строку со знака решётки \"#\"\n",
    "# Этот текст необходим только для информирования других людей и себя в будущем\n",
    "# Текст комментария никак не влияет на исполняемый код\n",
    "\n",
    "print(\"привет, мир!\") # Комментарии могут быть где угодно, даже после выполняемой строчки кода"
   ]
  },
  {
   "cell_type": "code",
   "execution_count": 11,
   "metadata": {},
   "outputs": [
    {
     "name": "stdout",
     "output_type": "stream",
     "text": [
      "100\n"
     ]
    }
   ],
   "source": [
    "print(10**2\n",
    "     # А также даже внутри поля аргументов функции (внутри скобок),\n",
    "     # но необходимо не \"задевать\" ту часть кода, что должна быть исполнена \n",
    "     # (в примере, возведение в степень через двойной знак звёздочки - астери́ск),\n",
    "     # \"а закрывающую скобку можно перенести на новую строчку\"\n",
    "     )"
   ]
  },
  {
   "attachments": {},
   "cell_type": "markdown",
   "metadata": {},
   "source": [
    "В  jupyter notebook оставлять текстовое описание происходящего в коде можно внутри ячейки, поменяв её тип. Например, кликнув быстро дважды на эту строчку, вы увидете, что текст здесь набран без каких-либо дополнительных знаков для вывода текста. \n",
    "\n",
    "Это возможно в ячейках типа [markdown](https://ru.wikipedia.org/wiki/Markdown). \n",
    "\n",
    "В таких ячейках полезно использовать дополнительные возможности разметки текста, например, выделение **жирным** или *курсив*. А можно оставлять [ссылки](https://www.markdownguide.org/basic-syntax/) и делать многое другое, для более информативного [оформления](https://getbootstrap.com/docs/4.0/components/alerts/) текста. \n",
    "\n",
    "\n",
    "<div class=\"alert alert-warning\">\n",
    "  <strong>Внимание!</strong> Это дополнительная информация для красивого и информативного оформления вашего jupyter notebook в будущем!\n",
    "</div>\n",
    "\n",
    "Для возврата к изначальному виду - запустите эту ячейку через `ctrl+enter`"
   ]
  },
  {
   "attachments": {},
   "cell_type": "markdown",
   "metadata": {},
   "source": [
    "# Ошибки"
   ]
  },
  {
   "cell_type": "code",
   "execution_count": null,
   "metadata": {},
   "outputs": [],
   "source": [
    "Для того, чтобы изменить тип ячейки нужно сначала её выбрать кликнув около надписи \"In []\"\n",
    "\n",
    "<- Вот тут\n",
    "\n",
    "Далее нажать на клавиатуре на клавишу \"M\" (латиницы) и снова запустить ячейку, например, через `shift+enter`\n",
    "(или shift+return на mac), язык раскладки (русский или английский язык сейчас выбран) при нажатии не имеет значения, \n",
    "переключать язык ввода на английский не нужно. Всё это можно сделать также сделать \"вручную\" в выпадающем меню \"Ячейка\"\n",
    "или в строке управления ячейками jupyter notebook. \n",
    "\n",
    "Вернуть ячейке тип \"Код\" можно нажав таким же образом на \"Y\". "
   ]
  },
  {
   "attachments": {},
   "cell_type": "markdown",
   "metadata": {},
   "source": [
    "Как вы могли заметить, прежде чем вы поменяли тип ячейки на markdown, вывод этой ячейки выдавал синтаксическую ошибку:\n",
    "\n",
    "\n",
    "![SyntaxError](images/error_img_1.jpeg \"SyntaxError\")"
   ]
  },
  {
   "cell_type": "code",
   "execution_count": 13,
   "metadata": {},
   "outputs": [
    {
     "ename": "SyntaxError",
     "evalue": "unmatched ')' (4227857168.py, line 3)",
     "output_type": "error",
     "traceback": [
      "\u001b[0;36m  Cell \u001b[0;32mIn[13], line 3\u001b[0;36m\u001b[0m\n\u001b[0;31m    print('привет, мир!'))\u001b[0m\n\u001b[0m                         ^\u001b[0m\n\u001b[0;31mSyntaxError\u001b[0m\u001b[0;31m:\u001b[0m unmatched ')'\n"
     ]
    }
   ],
   "source": [
    "# Вот вам ещё пример кода с синтаксической ошибкой (лишняя закрывающая скобка):\n",
    "\n",
    "print('привет, мир!'))"
   ]
  },
  {
   "attachments": {},
   "cell_type": "markdown",
   "metadata": {},
   "source": [
    "Ошибки синтаксиса — обычно легко исправить: нужно найти нарушение \"грамматики кода\" в вашей записи. \n",
    "Однако [интерпретатор](https://ru.wikipedia.org/wiki/Интерпретатор) не всегда может точно указать на место, где это нарушение было допущено. Поэтому бывает, что забытую скобку или другой знак нужно поставить не туда, куда указывает сообщение об ошибке.\n"
   ]
  },
  {
   "cell_type": "code",
   "execution_count": 14,
   "metadata": {
    "scrolled": true
   },
   "outputs": [
    {
     "ename": "ZeroDivisionError",
     "evalue": "division by zero",
     "output_type": "error",
     "traceback": [
      "\u001b[0;31m---------------------------------------------------------------------------\u001b[0m",
      "\u001b[0;31mZeroDivisionError\u001b[0m                         Traceback (most recent call last)",
      "Cell \u001b[0;32mIn[14], line 5\u001b[0m\n\u001b[1;32m      1\u001b[0m \u001b[38;5;66;03m# есть также и другие ошибки, не синтаксические, но не бойтесь их! \u001b[39;00m\n\u001b[1;32m      2\u001b[0m \u001b[38;5;66;03m# их можно исправить, если просто прочитать их название и/или описание ошибки в интернете\u001b[39;00m\n\u001b[0;32m----> 5\u001b[0m \u001b[38;5;241;43m42\u001b[39;49m\u001b[38;5;241;43m/\u001b[39;49m\u001b[43m(\u001b[49m\u001b[38;5;241;43m2\u001b[39;49m\u001b[38;5;241;43m-\u001b[39;49m\u001b[38;5;241;43m2\u001b[39;49m\u001b[43m)\u001b[49m \u001b[38;5;66;03m# в этом примере происходит деление на ноль - чего делать нельзя ни при каких обстоятельствах!!!\u001b[39;00m\n",
      "\u001b[0;31mZeroDivisionError\u001b[0m: division by zero"
     ]
    }
   ],
   "source": [
    "# есть также и другие ошибки, не синтаксические, но не бойтесь их! \n",
    "# их можно исправить, если просто прочитать их название и/или описание ошибки в интернете\n",
    "\n",
    "\n",
    "42/(2-2) # в этом примере происходит деление на ноль - чего делать нельзя ни при каких обстоятельствах!!!"
   ]
  },
  {
   "attachments": {},
   "cell_type": "markdown",
   "metadata": {},
   "source": [
    "# Арифметика"
   ]
  },
  {
   "attachments": {},
   "cell_type": "markdown",
   "metadata": {},
   "source": [
    "    Очевидно, что компьютер оперирует только цифровым представлением данных. \n",
    "\n",
    "    Во всех программах в той или иной мере используются числа и операции над ними. \n",
    "    Базовые знаки операций над числами в Python довольно просты и ясны (возможно, кроме последних двух пунктов):"
   ]
  },
  {
   "attachments": {},
   "cell_type": "markdown",
   "metadata": {},
   "source": [
    "   `+` — сложение\n",
    "   \n",
    "   `-` — вычитание\n",
    "   \n",
    "   `*` — умножение\n",
    "   \n",
    "   `**` — возведение в степень\n",
    "   \n",
    "   `/` — деление\n",
    "   \n",
    "   `//` — [целочисленное деление](https://ru.wikipedia.org/wiki/Деление_с_остатком#В_программировании)\n",
    "   \n",
    "   `%` — [остаток от деления](https://ru.wikipedia.org/wiki/Деление_с_остатком)\n",
    "     "
   ]
  },
  {
   "attachments": {},
   "cell_type": "markdown",
   "metadata": {},
   "source": [
    "В примерах выше мы видели, что Python выполняет вычисления в стандартном порядке приоритета. \n",
    "\n",
    "Например, ответ данного примера будет равен 12:"
   ]
  },
  {
   "cell_type": "code",
   "execution_count": 15,
   "metadata": {},
   "outputs": [
    {
     "data": {
      "text/plain": [
       "12"
      ]
     },
     "execution_count": 15,
     "metadata": {},
     "output_type": "execute_result"
    }
   ],
   "source": [
    "3+3*3"
   ]
  },
  {
   "cell_type": "code",
   "execution_count": 16,
   "metadata": {},
   "outputs": [
    {
     "data": {
      "text/plain": [
       "True"
      ]
     },
     "execution_count": 16,
     "metadata": {},
     "output_type": "execute_result"
    }
   ],
   "source": [
    "19%10+7//2 == 12 # И здесь ответ равен 12, мы его проверили через знак \"двойного равенства\""
   ]
  },
  {
   "attachments": {},
   "cell_type": "markdown",
   "metadata": {},
   "source": [
    "Два знака \"равно\" рядом означают операцию сравнения, проверку истинности равенства двух аргументов с одной и с другой стороны. \n",
    "Здесь на выходе мы получили значение <span style=\"color:green\">**True**</span> - Истина, т.к. равенство верное! Это новый для нас **тип данных - [булевое значение](https://ru.wikipedia.org/wiki/Логический_тип)**\n",
    "\n"
   ]
  },
  {
   "cell_type": "code",
   "execution_count": 17,
   "metadata": {},
   "outputs": [
    {
     "data": {
      "text/plain": [
       "2.0"
      ]
     },
     "execution_count": 17,
     "metadata": {},
     "output_type": "execute_result"
    }
   ],
   "source": [
    "(True+True)/(True+True)+True"
   ]
  },
  {
   "attachments": {},
   "cell_type": "markdown",
   "metadata": {},
   "source": [
    "<div class=\"alert alert-info\">\n",
    "  <strong>Тип данных! </strong>Логический тип данных в python - boolean\n",
    "</div>"
   ]
  },
  {
   "attachments": {},
   "cell_type": "markdown",
   "metadata": {},
   "source": [
    "Если использовать скобки - то мы, как и в обычной математике, меняем приоритет действий. Это знание, об использовании скобок, необходимо не забывать использовать при вычислениях.\n",
    "\n",
    "Также мы видим, что к булевым значениям могут применяться арифметические операции, <span style=\"color:green\">**True**</span> выполняет роль единицы, а <span style=\"color:green\">**False**</span>  - [нуля](https://ru.wikipedia.org/wiki/Ноль_в_нулевой_степени)"
   ]
  },
  {
   "cell_type": "code",
   "execution_count": 21,
   "metadata": {},
   "outputs": [
    {
     "name": "stdout",
     "output_type": "stream",
     "text": [
      "False+False is 0\n",
      "пустаястрока\n",
      "False*False is 0\n",
      "\n",
      "(3*(True+True+True))**.5 is 3.0\n",
      "\n",
      "False**False is 1\n",
      "0**0 is 1\n"
     ]
    }
   ],
   "source": [
    "print(\"False+False is\", False+False, end='\\nпустаястрока\\n') # передавать аргументы в функцию можно через запятую\n",
    "print(\"False*False is\", False*False)\n",
    "print()\n",
    "# возведение в дробное число (0.5) равнозначно взятию корня (\"0\" можно не записывать)\n",
    "print(\"(3*(True+True+True))**.5 is\", (3*(True+True+True))**.5) \n",
    "print()\n",
    "print(\"False**False is\", False**False) \n",
    "print(\"0**0 is\", 0**0)"
   ]
  },
  {
   "cell_type": "code",
   "execution_count": 22,
   "metadata": {},
   "outputs": [
    {
     "data": {
      "text/plain": [
       "True"
      ]
     },
     "execution_count": 22,
     "metadata": {},
     "output_type": "execute_result"
    }
   ],
   "source": [
    "# Обратите внимание на правило округления в сторону чётного\n",
    "round(3.5) == round(4.5)"
   ]
  },
  {
   "cell_type": "code",
   "execution_count": 23,
   "metadata": {},
   "outputs": [
    {
     "data": {
      "text/plain": [
       "2.0"
      ]
     },
     "execution_count": 23,
     "metadata": {},
     "output_type": "execute_result"
    }
   ],
   "source": [
    "20/10 # Вы могли также заметить, что при делении целых чисел на выходе мы получаем тип данных float"
   ]
  },
  {
   "cell_type": "code",
   "execution_count": 24,
   "metadata": {},
   "outputs": [
    {
     "data": {
      "text/plain": [
       "0.9999999999999999"
      ]
     },
     "execution_count": 24,
     "metadata": {},
     "output_type": "execute_result"
    }
   ],
   "source": [
    "# и кстати, сложив десять раз 0.1, мы не получим 1.0\n",
    "0.1+0.1+0.1+0.1+0.1+0.1+0.1+0.1+0.1+0.1"
   ]
  },
  {
   "cell_type": "code",
   "execution_count": 25,
   "metadata": {},
   "outputs": [
    {
     "data": {
      "text/plain": [
       "0.30000000000000004"
      ]
     },
     "execution_count": 25,
     "metadata": {},
     "output_type": "execute_result"
    }
   ],
   "source": [
    "# и такой пример вас не должен удивлять\n",
    "0.1+0.2"
   ]
  },
  {
   "attachments": {},
   "cell_type": "markdown",
   "metadata": {},
   "source": [
    "Ведь https://0.30000000000000004.com"
   ]
  },
  {
   "cell_type": "code",
   "execution_count": 26,
   "metadata": {},
   "outputs": [
    {
     "data": {
      "text/plain": [
       "10"
      ]
     },
     "execution_count": 26,
     "metadata": {},
     "output_type": "execute_result"
    }
   ],
   "source": [
    "round(9.5)"
   ]
  },
  {
   "attachments": {},
   "cell_type": "markdown",
   "metadata": {},
   "source": [
    "# Инструкции"
   ]
  },
  {
   "attachments": {},
   "cell_type": "markdown",
   "metadata": {},
   "source": [
    "Весь код на python - это набор построковых инструкций, которые обычно отделяются друг от друга переводом на новую строку. Инструкция - это единица исполнения команды для компьютера. Конец строки является концом инструкции (точка с запятой или какой-то ещё специальный символ не требуется). Из-за такой пошаговой процедуры выполнения инструкций, код на Python (в виде отдельных файлов расширения `.py` - \"дот-пай\") называют \"скрипт\" - сценарий выполнения.\n",
    "\n",
    "Вложенные инструкции объединяются в блоки по величине отступов. В пределах одного вложенного блока отступ должен быть одинаков - 4 пробела от левого края страницы или блока уровнем выше:"
   ]
  },
  {
   "attachments": {},
   "cell_type": "markdown",
   "metadata": {
    "code_folding": []
   },
   "source": [
    "     1 - Основная инструкция:\n",
    "         2 - Вложенный блок инструкций\n",
    "         2 - Всё ещё вложенный блок:\n",
    "             3 - Вложенный блок во вложенный блок\n",
    "             3 - И ещё одна инструкция внутри...\n",
    "         2 - Продоложение выполнения второго блока, \n",
    "         2 - после выполнения вложенного блока номер 3"
   ]
  },
  {
   "attachments": {},
   "cell_type": "markdown",
   "metadata": {},
   "source": [
    "Но иногда несколько инструкций одного уровня иногда необходимо записать в одной строке, это возможно сделать, разделяя каждую из них точкой с запятой:"
   ]
  },
  {
   "cell_type": "code",
   "execution_count": 27,
   "metadata": {},
   "outputs": [
    {
     "name": "stdout",
     "output_type": "stream",
     "text": [
      "42\n"
     ]
    }
   ],
   "source": [
    "a = 40; b = 2; print(a + b)"
   ]
  },
  {
   "attachments": {},
   "cell_type": "markdown",
   "metadata": {},
   "source": [
    "# This и PEP"
   ]
  },
  {
   "attachments": {},
   "cell_type": "markdown",
   "metadata": {},
   "source": [
    "Уберите комментирование из ячейки ниже: нужно выделить текст всей ячейки сочетанием `ctrl+A` или `command+A`, далее сочетанием клавиш `ctrl+/` или `command+/` снять/добавить знак \"#\". \n",
    "\n",
    "Запустите ячейку и вы увидете текстовое описание философии языка Python, этих пунктов стоит придерживаться при написании собственного кода. "
   ]
  },
  {
   "cell_type": "code",
   "execution_count": 28,
   "metadata": {},
   "outputs": [
    {
     "name": "stdout",
     "output_type": "stream",
     "text": [
      "The Zen of Python, by Tim Peters\n",
      "\n",
      "Beautiful is better than ugly.\n",
      "Explicit is better than implicit.\n",
      "Simple is better than complex.\n",
      "Complex is better than complicated.\n",
      "Flat is better than nested.\n",
      "Sparse is better than dense.\n",
      "Readability counts.\n",
      "Special cases aren't special enough to break the rules.\n",
      "Although practicality beats purity.\n",
      "Errors should never pass silently.\n",
      "Unless explicitly silenced.\n",
      "In the face of ambiguity, refuse the temptation to guess.\n",
      "There should be one-- and preferably only one --obvious way to do it.\n",
      "Although that way may not be obvious at first unless you're Dutch.\n",
      "Now is better than never.\n",
      "Although never is often better than *right* now.\n",
      "If the implementation is hard to explain, it's a bad idea.\n",
      "If the implementation is easy to explain, it may be a good idea.\n",
      "Namespaces are one honking great idea -- let's do more of those!\n"
     ]
    }
   ],
   "source": [
    "# Уберите комментирование кода из этой ячейки сочетанием клавиш\n",
    "\n",
    "import this"
   ]
  },
  {
   "attachments": {},
   "cell_type": "markdown",
   "metadata": {},
   "source": [
    "Мы только что [импортировали](https://docs.python.org/3/reference/import.html#) модуль `this`. Вызвать для прочтения конкретно этот модуль возможно лишь один раз в активной сессии языка. Для повторного просмотра и импортирования соответственно, необходимо перейти в раздел  jupyter под названием `Ядро` или `Kernel` и остановить и запустить заново сессию python или \"*перезагрузить ядро*\". Далее можно запустить необходимые вам ячейки вновь. Все [остальные](https://docs.python.org/3/library/) модули доступны всё время после импорта и до конца работы ядра. С ними мы познакомимся в будущем!"
   ]
  },
  {
   "attachments": {},
   "cell_type": "markdown",
   "metadata": {},
   "source": [
    "Как мы помним, Python – язык [высокоуровневый](https://ru.wikipedia.org/wiki/Высокоуровневый_язык_программирования), его действительно гораздо проще читать человеку, чем многие другие языки программирования. Отчасти, каждый программист – это писатель, ведь его продукт - это код, текст, который исполняет машина, но читают живые люди. Для того, что бы код, который вы пишете, был легко читаем для всех python-программистов, то есть унифицирован, существует свод предложений по улучшению языка - index of **P**ython **E**nhancement **P**roposals - [PEP](https://www.python.org/dev/peps/). Один из таких, под номером 8, предлагает советы для повышения читабельности записи кода - [PEP8](https://www.python.org/dev/peps/pep-0008/). "
   ]
  },
  {
   "attachments": {},
   "cell_type": "markdown",
   "metadata": {},
   "source": [
    "# Переменные"
   ]
  },
  {
   "attachments": {},
   "cell_type": "markdown",
   "metadata": {},
   "source": [
    "Выше мы только что использовали инструкцию [присваивания](https://ru.wikipedia.org/wiki/Присваивание) и получили для нашего распоряжения две **переменные** (`a` и `b`) в памяти запущенной сейчас среды выполнения Python. \n",
    "\n",
    "               Переменные - это объекты, которые хранят данные (ссылки на ячейки физический памяти). \n",
    "\n",
    "Название переменной должно начинаться с **алфавитного** символа или со **знака подчеркивания \"_\"**. \n",
    "\n",
    "Переменная может содержать символы алфавита и цифры, а также знак подчеркивания. Важно, что название переменной не должно совпадать с названием [ключевых слов](https://docs.python.org/3.9/reference/lexical_analysis.html#keywords) языка Python:\n",
    "\n",
    "\n",
    "                            False      await      else       import     pass\n",
    "                            None       break      except     in         raise\n",
    "                            True       class      finally    is         return\n",
    "                            and        continue   for        lambda     try\n",
    "                            as         def        from       nonlocal   while\n",
    "                            assert     del        global     not        with\n",
    "                            async      elif       if         or         yield\n",
    "\n",
    "**Ключевые слова** в языке необходимы для управления кодом, они помогают создавать новые функции, подгружать встроенные и внешние библиотеки (расширяющие функционал языка), сравнивать объекты между собой, создавать цикличные вложенные инструкции и т.д. \n",
    "\n",
    "Все ключевые слова мы расссмотрим далее по ходу изучения языка. А пока вы можете отметить, что ключевые слова в среде jupyter автоматически выделяются <span style=\"color:green\">**жирным зелёным шрифтом**</span>.\n"
   ]
  },
  {
   "attachments": {},
   "cell_type": "markdown",
   "metadata": {},
   "source": [
    "snake_case\n",
    "\n",
    "CamelCase"
   ]
  },
  {
   "cell_type": "code",
   "execution_count": 29,
   "metadata": {
    "code_folding": []
   },
   "outputs": [
    {
     "data": {
      "text/plain": [
       "42"
      ]
     },
     "execution_count": 29,
     "metadata": {},
     "output_type": "execute_result"
    }
   ],
   "source": [
    "# Например, создадим (ещё говорят \"назначим\") переменную \"сумма двух переменных\"\n",
    "\n",
    "sum_of_two_variables = a+b\n",
    "sum_of_two_variables # можем сразу же ее и вызвать"
   ]
  },
  {
   "attachments": {},
   "cell_type": "markdown",
   "metadata": {},
   "source": [
    "Назначение переменных происходит через операцию присваивания, которая реализована в виде знака равно \n",
    "\"=\""
   ]
  },
  {
   "cell_type": "code",
   "execution_count": 30,
   "metadata": {},
   "outputs": [],
   "source": [
    "number_1 = 2\n",
    "number_2 = 40"
   ]
  },
  {
   "cell_type": "code",
   "execution_count": 31,
   "metadata": {
    "tags": []
   },
   "outputs": [],
   "source": [
    "# А ещё есть такие штуки как:\n",
    "\n",
    "# _privatnaya_peremennaya_\n",
    "# __magic_func__ \n",
    "# синтаксический сахар "
   ]
  },
  {
   "cell_type": "code",
   "execution_count": 34,
   "metadata": {},
   "outputs": [
    {
     "data": {
      "text/plain": [
       "42"
      ]
     },
     "execution_count": 34,
     "metadata": {},
     "output_type": "execute_result"
    }
   ],
   "source": [
    "# number_1 + number_2\n",
    "\n",
    "number_1.__add__(number_2)"
   ]
  },
  {
   "cell_type": "code",
   "execution_count": 35,
   "metadata": {},
   "outputs": [
    {
     "data": {
      "text/plain": [
       "'text 24'"
      ]
     },
     "execution_count": 35,
     "metadata": {},
     "output_type": "execute_result"
    }
   ],
   "source": [
    "'text' + ' 24'"
   ]
  },
  {
   "cell_type": "code",
   "execution_count": 36,
   "metadata": {},
   "outputs": [
    {
     "data": {
      "text/plain": [
       "'text 42'"
      ]
     },
     "execution_count": 36,
     "metadata": {},
     "output_type": "execute_result"
    }
   ],
   "source": [
    "'text'.__add__(' 42')"
   ]
  },
  {
   "attachments": {},
   "cell_type": "markdown",
   "metadata": {},
   "source": [
    "# Функции"
   ]
  },
  {
   "attachments": {},
   "cell_type": "markdown",
   "metadata": {},
   "source": [
    "Функция – это объект, который принимает **аргументы** и возвращающий **значение**. Обычно именованная функция определяется с помощью инструкции def. Полезно при написании функции применять указание типов аргументов и возвращаемого значения. "
   ]
  },
  {
   "cell_type": "code",
   "execution_count": 49,
   "metadata": {
    "tags": []
   },
   "outputs": [
    {
     "name": "stdout",
     "output_type": "stream",
     "text": [
      "Artur, пойди посмотри в окно!\n"
     ]
    },
    {
     "data": {
      "text/plain": [
       "NoneType"
      ]
     },
     "execution_count": 49,
     "metadata": {},
     "output_type": "execute_result"
    }
   ],
   "source": [
    "def pomo(name):\n",
    "    print(f'{name}, пойди посмотри в окно!')\n",
    "    \n",
    "result = pomo('Artur')\n",
    "type(result)"
   ]
  },
  {
   "cell_type": "code",
   "execution_count": 50,
   "metadata": {
    "tags": []
   },
   "outputs": [
    {
     "data": {
      "text/plain": [
       "4834843456"
      ]
     },
     "execution_count": 50,
     "metadata": {},
     "output_type": "execute_result"
    }
   ],
   "source": [
    "id(pomo)"
   ]
  },
  {
   "cell_type": "code",
   "execution_count": 51,
   "metadata": {},
   "outputs": [
    {
     "data": {
      "text/plain": [
       "NoneType"
      ]
     },
     "execution_count": 51,
     "metadata": {},
     "output_type": "execute_result"
    }
   ],
   "source": [
    "def pomo(name):\n",
    "    # return f'{name}, пойди посмотри в окно!'\n",
    "    return \n",
    "\n",
    "type(pomo('Artur'))"
   ]
  },
  {
   "cell_type": "code",
   "execution_count": 52,
   "metadata": {},
   "outputs": [
    {
     "data": {
      "text/plain": [
       "4834841872"
      ]
     },
     "execution_count": 52,
     "metadata": {},
     "output_type": "execute_result"
    }
   ],
   "source": [
    "id(pomo)"
   ]
  },
  {
   "cell_type": "code",
   "execution_count": 53,
   "metadata": {
    "tags": []
   },
   "outputs": [
    {
     "name": "stdout",
     "output_type": "stream",
     "text": [
      "Artur\n",
      "Lev\n",
      "Dima\n"
     ]
    }
   ],
   "source": [
    "names = ['Artur', \n",
    "         'Lev', \n",
    "         'Dima']\n",
    "\n",
    "for i in range(len(names)):\n",
    "    print(names[i])"
   ]
  },
  {
   "cell_type": "code",
   "execution_count": 54,
   "metadata": {
    "tags": []
   },
   "outputs": [
    {
     "data": {
      "text/plain": [
       "3"
      ]
     },
     "execution_count": 54,
     "metadata": {},
     "output_type": "execute_result"
    }
   ],
   "source": [
    "len(names)"
   ]
  },
  {
   "cell_type": "code",
   "execution_count": 58,
   "metadata": {
    "tags": []
   },
   "outputs": [
    {
     "name": "stdout",
     "output_type": "stream",
     "text": [
      "Artur\n",
      "Lev\n",
      "Dima\n"
     ]
    },
    {
     "ename": "IndexError",
     "evalue": "list index out of range",
     "output_type": "error",
     "traceback": [
      "\u001b[0;31m---------------------------------------------------------------------------\u001b[0m",
      "\u001b[0;31mIndexError\u001b[0m                                Traceback (most recent call last)",
      "Cell \u001b[0;32mIn[58], line 2\u001b[0m\n\u001b[1;32m      1\u001b[0m \u001b[38;5;28;01mfor\u001b[39;00m i \u001b[38;5;129;01min\u001b[39;00m \u001b[38;5;28mrange\u001b[39m(\u001b[38;5;241m4\u001b[39m):\n\u001b[0;32m----> 2\u001b[0m     \u001b[38;5;28mprint\u001b[39m(\u001b[43mnames\u001b[49m\u001b[43m[\u001b[49m\u001b[43mi\u001b[49m\u001b[43m]\u001b[49m)\n",
      "\u001b[0;31mIndexError\u001b[0m: list index out of range"
     ]
    }
   ],
   "source": [
    "# IndexError: list index out of range\n",
    "\n",
    "for i in range(4):\n",
    "    print(names[i]) "
   ]
  },
  {
   "cell_type": "code",
   "execution_count": 59,
   "metadata": {
    "tags": []
   },
   "outputs": [
    {
     "name": "stdout",
     "output_type": "stream",
     "text": [
      "1\n"
     ]
    }
   ],
   "source": [
    "a, b = 1, 2\n",
    "a, b = b, a\n",
    "\n",
    "print(b)"
   ]
  },
  {
   "cell_type": "code",
   "execution_count": 64,
   "metadata": {
    "tags": []
   },
   "outputs": [],
   "source": [
    "def string_repeater(name: str, repeat_number: int) -> str:  # type hint\n",
    "    \"\"\"Функция принимает строку и повторяет её указанное количество раз\n",
    "    \n",
    "        arg\n",
    "          string: str - строка, которую нужно повторить какое-то количество раз\n",
    "          repeat_number: int - число повторов строки\n",
    "    \"\"\"\n",
    "    \n",
    "    return name * repeat_number"
   ]
  },
  {
   "cell_type": "code",
   "execution_count": 65,
   "metadata": {
    "tags": []
   },
   "outputs": [
    {
     "data": {
      "text/plain": [
       "'sdfsdfssdfsdfssdfsdfs'"
      ]
     },
     "execution_count": 65,
     "metadata": {},
     "output_type": "execute_result"
    }
   ],
   "source": [
    "string_repeater('sdfsdfs', 3)"
   ]
  },
  {
   "cell_type": "code",
   "execution_count": 66,
   "metadata": {
    "tags": []
   },
   "outputs": [
    {
     "name": "stdout",
     "output_type": "stream",
     "text": [
      "Help on function string_repeater in module __main__:\n",
      "\n",
      "string_repeater(name: str, repeat_number: int) -> str\n",
      "    Функция принимает строку и повторяет её указанное количество раз\n",
      "    \n",
      "    arg\n",
      "      string: str - строка, которую нужно повторить какое-то количество раз\n",
      "      repeat_number: int - число повторов строки\n",
      "\n"
     ]
    }
   ],
   "source": [
    "help(string_repeater)"
   ]
  },
  {
   "cell_type": "code",
   "execution_count": 67,
   "metadata": {
    "tags": []
   },
   "outputs": [
    {
     "data": {
      "text/plain": [
       "\u001b[0;31mSignature:\u001b[0m \u001b[0mstring_repeater\u001b[0m\u001b[0;34m(\u001b[0m\u001b[0mname\u001b[0m\u001b[0;34m:\u001b[0m \u001b[0mstr\u001b[0m\u001b[0;34m,\u001b[0m \u001b[0mrepeat_number\u001b[0m\u001b[0;34m:\u001b[0m \u001b[0mint\u001b[0m\u001b[0;34m)\u001b[0m \u001b[0;34m->\u001b[0m \u001b[0mstr\u001b[0m\u001b[0;34m\u001b[0m\u001b[0;34m\u001b[0m\u001b[0m\n",
       "\u001b[0;31mDocstring:\u001b[0m\n",
       "Функция принимает строку и повторяет её указанное количество раз\n",
       "\n",
       "arg\n",
       "  string: str - строка, которую нужно повторить какое-то количество раз\n",
       "  repeat_number: int - число повторов строки\n",
       "\u001b[0;31mFile:\u001b[0m      /var/folders/y2/j23cygdx1qx2m8mc4wvpn5940000gn/T/ipykernel_3671/2214036396.py\n",
       "\u001b[0;31mType:\u001b[0m      function"
      ]
     },
     "metadata": {},
     "output_type": "display_data"
    }
   ],
   "source": [
    "?string_repeater"
   ]
  },
  {
   "cell_type": "code",
   "execution_count": 68,
   "metadata": {},
   "outputs": [],
   "source": [
    "def repeater(s, n):\n",
    "    return s * n"
   ]
  },
  {
   "cell_type": "code",
   "execution_count": 70,
   "metadata": {
    "tags": []
   },
   "outputs": [],
   "source": [
    "# ?repeater"
   ]
  },
  {
   "attachments": {},
   "cell_type": "markdown",
   "metadata": {},
   "source": [
    "    var = value # type: annotation\n",
    "    var: annotation; var = value\n",
    "    var: annotation = value"
   ]
  },
  {
   "cell_type": "code",
   "execution_count": 71,
   "metadata": {},
   "outputs": [],
   "source": [
    "num_of_cats = 3 # type: int\n",
    "num_of_cats: int; num_of_cats = 3\n",
    "num_of_cats: int = 3"
   ]
  },
  {
   "attachments": {},
   "cell_type": "markdown",
   "metadata": {},
   "source": [
    "## Домашнее задание"
   ]
  },
  {
   "cell_type": "code",
   "execution_count": null,
   "metadata": {},
   "outputs": [],
   "source": [
    "# Есть нейросеть, которая предсказывает вероятность отнесения к тому или иному классу. \n",
    "# Нужно сделать функцию, которая принимает на вход список лейблов и словарь, где для каждой фотографии\n",
    "# есть список предсказаний позиционно совпадающий со списком лейблов. \n",
    "# Функция выдаёт словарь, где ключ - путь к фотографии, значение - наиболее вероятный класс/лейбл"
   ]
  },
  {
   "cell_type": "code",
   "execution_count": null,
   "metadata": {
    "tags": []
   },
   "outputs": [],
   "source": [
    "labels = ['cat', 'dog', 'person']\n",
    "predicts = {'prediction': [{'photo_path': 'user/img_8889.png', 'predicted_labels': [0.1, 0.2, 0.7]}, \n",
    "                           {'photo_path': 'user/img_8890.png', 'predicted_labels': [0.6, 0.2, 0.2]},\n",
    "                           {'photo_path': 'user/img_8809.png', 'predicted_labels': [0.1, 0.8, 0.1]}]}"
   ]
  },
  {
   "cell_type": "code",
   "execution_count": null,
   "metadata": {},
   "outputs": [],
   "source": [
    "def get_labels(labels: list, preds: dict) -> dict:\n",
    "    pass\n",
    "\n",
    "get_labels(labels, predicts) == {'user/img_8889.png':'person', 'user/img_8890.png':'cat', 'user/img_8809.png': 'dog'}"
   ]
  },
  {
   "attachments": {},
   "cell_type": "markdown",
   "metadata": {},
   "source": [
    "**Дополнительные задания**\n",
    "\n",
    "\n",
    "Напишите инструкции внутри функции, которые преобразует рандомное число в строку и повторяет её рандомное число раз"
   ]
  },
  {
   "cell_type": "code",
   "execution_count": null,
   "metadata": {},
   "outputs": [],
   "source": [
    "import random\n",
    "\n",
    "def random_number_repeater(start: int, stop: int) -> str:\n",
    "    \"\"\"Функция, которая  преобразует рандомное число в промежутке между [start:stop]\n",
    "    в строку и повторяет её рандомное число раз (также из промежутка [start:stop])\"\"\"\n",
    "    pass"
   ]
  },
  {
   "attachments": {},
   "cell_type": "markdown",
   "metadata": {},
   "source": [
    "И ещё вопрос. Как посмотреть все используемые переменные?"
   ]
  },
  {
   "cell_type": "code",
   "execution_count": null,
   "metadata": {},
   "outputs": [],
   "source": []
  }
 ],
 "metadata": {
  "kernelspec": {
   "display_name": "Python 3 (ipykernel)",
   "language": "python",
   "name": "python3"
  },
  "language_info": {
   "codemirror_mode": {
    "name": "ipython",
    "version": 3
   },
   "file_extension": ".py",
   "mimetype": "text/x-python",
   "name": "python",
   "nbconvert_exporter": "python",
   "pygments_lexer": "ipython3",
   "version": "3.10.9"
  },
  "toc": {
   "base_numbering": 1,
   "nav_menu": {},
   "number_sections": false,
   "sideBar": true,
   "skip_h1_title": false,
   "title_cell": "Table of Contents",
   "title_sidebar": "Contents",
   "toc_cell": false,
   "toc_position": {
    "height": "calc(100% - 180px)",
    "left": "10px",
    "top": "150px",
    "width": "165px"
   },
   "toc_section_display": true,
   "toc_window_display": true
  }
 },
 "nbformat": 4,
 "nbformat_minor": 4
}
