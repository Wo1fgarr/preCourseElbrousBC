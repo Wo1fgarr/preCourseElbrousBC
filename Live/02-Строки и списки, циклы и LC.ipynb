{
 "cells": [
  {
   "attachments": {},
   "cell_type": "markdown",
   "id": "61fdcaaf",
   "metadata": {},
   "source": [
    "# Методы строк"
   ]
  },
  {
   "cell_type": "code",
   "execution_count": 1,
   "id": "e8972497",
   "metadata": {
    "tags": []
   },
   "outputs": [
    {
     "name": "stdout",
     "output_type": "stream",
     "text": [
      "Concatenation\n",
      "Concatenation\n"
     ]
    }
   ],
   "source": [
    "print(\"Con\" 'c' \"ate\" 'nation') # строки прикрепляются друг к другу\n",
    "print(\"Con\"+'c'+\"ate\"+'nation') # строки \"складываются\" друг с другом - конкатенируют"
   ]
  },
  {
   "cell_type": "code",
   "execution_count": 2,
   "id": "20f65fc7",
   "metadata": {
    "tags": []
   },
   "outputs": [
    {
     "name": "stdout",
     "output_type": "stream",
     "text": [
      "4425450576\n",
      "4425457776\n"
     ]
    }
   ],
   "source": [
    "string_var = '  String is builtin data type of python   '\n",
    "print(id(string_var))\n",
    "string_var = string_var.upper()\n",
    "print(id(string_var))"
   ]
  },
  {
   "cell_type": "code",
   "execution_count": 3,
   "id": "cdf4f5c3-4366-4ce5-8653-38a6863b1b40",
   "metadata": {
    "tags": []
   },
   "outputs": [
    {
     "data": {
      "text/plain": [
       "'  STRING IS BUILTIN DATA TYPE OF PYTHON   '"
      ]
     },
     "execution_count": 3,
     "metadata": {},
     "output_type": "execute_result"
    }
   ],
   "source": [
    "string_var"
   ]
  },
  {
   "cell_type": "code",
   "execution_count": 4,
   "id": "db406b16",
   "metadata": {
    "tags": []
   },
   "outputs": [
    {
     "data": {
      "text/plain": [
       "2"
      ]
     },
     "execution_count": 4,
     "metadata": {},
     "output_type": "execute_result"
    }
   ],
   "source": [
    "string_var.count('S') # мы можем считать количество вхождений одного символа в строке"
   ]
  },
  {
   "cell_type": "code",
   "execution_count": 5,
   "id": "706c0357",
   "metadata": {
    "tags": []
   },
   "outputs": [
    {
     "name": "stdout",
     "output_type": "stream",
     "text": [
      "  string is builtin data type of python   \n",
      "  STRING IS BUILTIN DATA TYPE OF PYTHON   \n"
     ]
    },
    {
     "data": {
      "text/plain": [
       "4425457776"
      ]
     },
     "execution_count": 5,
     "metadata": {},
     "output_type": "execute_result"
    }
   ],
   "source": [
    "print(string_var.lower()) # lower() и upper() методы переводят все символы в нижний и верхний регистр\n",
    "print(string_var.upper())\n",
    "id(string_var)"
   ]
  },
  {
   "cell_type": "code",
   "execution_count": 5,
   "id": "7a8b43ec-28ed-4b3b-9db7-a2caad11dd3e",
   "metadata": {
    "tags": []
   },
   "outputs": [],
   "source": [
    "# представление объекта"
   ]
  },
  {
   "cell_type": "code",
   "execution_count": 6,
   "id": "c07653b1",
   "metadata": {
    "tags": []
   },
   "outputs": [
    {
     "data": {
      "text/plain": [
       "'  STRING IS BUILTIN DATA TYPE OF PYTHON   '"
      ]
     },
     "execution_count": 6,
     "metadata": {},
     "output_type": "execute_result"
    }
   ],
   "source": [
    "string_var"
   ]
  },
  {
   "attachments": {},
   "cell_type": "markdown",
   "id": "f27fed00",
   "metadata": {},
   "source": [
    "Важно, что методы объектов мы можем вызывать **последовательно** один за другим:"
   ]
  },
  {
   "cell_type": "code",
   "execution_count": 7,
   "id": "7ff05b07",
   "metadata": {
    "tags": []
   },
   "outputs": [
    {
     "data": {
      "text/plain": [
       "0"
      ]
     },
     "execution_count": 7,
     "metadata": {},
     "output_type": "execute_result"
    }
   ],
   "source": [
    "# string_var.lower().count('s')\n",
    "string_var.upper().count('s')"
   ]
  },
  {
   "cell_type": "code",
   "execution_count": 8,
   "id": "93b92e65",
   "metadata": {
    "tags": []
   },
   "outputs": [
    {
     "data": {
      "text/plain": [
       "'  string is builtin data type of python   '"
      ]
     },
     "execution_count": 8,
     "metadata": {},
     "output_type": "execute_result"
    }
   ],
   "source": [
    "string_var = string_var.lower()\n",
    "string_var\n",
    "# id(string_var)"
   ]
  },
  {
   "cell_type": "code",
   "execution_count": 9,
   "id": "ccbac7ca",
   "metadata": {
    "tags": []
   },
   "outputs": [
    {
     "data": {
      "text/plain": [
       "2"
      ]
     },
     "execution_count": 9,
     "metadata": {},
     "output_type": "execute_result"
    }
   ],
   "source": [
    "string_var.count('s')"
   ]
  },
  {
   "attachments": {},
   "cell_type": "markdown",
   "id": "30a33cb3",
   "metadata": {},
   "source": [
    "<div class=\"alert alert-warning\">\n",
    "  <strong>Внимание!</strong> Как мы видим, \"S\" и \"s\" - это разные символы \n",
    "</div>"
   ]
  },
  {
   "cell_type": "code",
   "execution_count": 10,
   "id": "701b7e5e",
   "metadata": {
    "tags": []
   },
   "outputs": [
    {
     "name": "stdout",
     "output_type": "stream",
     "text": [
      "  string is builtin data type of python    – len of string is 42\n"
     ]
    }
   ],
   "source": [
    "# мы можем посчитать длину строки\n",
    "# len(string_var)\n",
    "print(string_var, '– len of string is', len(string_var))"
   ]
  },
  {
   "cell_type": "code",
   "execution_count": 11,
   "id": "306e9233",
   "metadata": {
    "tags": []
   },
   "outputs": [
    {
     "data": {
      "text/plain": [
       "37"
      ]
     },
     "execution_count": 11,
     "metadata": {},
     "output_type": "execute_result"
    }
   ],
   "source": [
    "len(string_var.strip()) # метод strip() убирает все пробельные символы в начале и в конце строки"
   ]
  },
  {
   "cell_type": "code",
   "execution_count": 24,
   "id": "92e0bd1a-a60e-482f-bb3b-56f6020ba599",
   "metadata": {
    "tags": []
   },
   "outputs": [
    {
     "data": {
      "text/plain": [
       "'string is builtin data type of python'"
      ]
     },
     "execution_count": 24,
     "metadata": {},
     "output_type": "execute_result"
    }
   ],
   "source": [
    "string_var.strip()"
   ]
  },
  {
   "cell_type": "code",
   "execution_count": 12,
   "id": "2f55525c",
   "metadata": {
    "tags": []
   },
   "outputs": [
    {
     "name": "stdout",
     "output_type": "stream",
     "text": [
      "string is builtin data type of python – len of string is 37\n"
     ]
    }
   ],
   "source": [
    "print(string_var.strip(), '– len of string is', len(string_var.strip()))"
   ]
  },
  {
   "cell_type": "code",
   "execution_count": 13,
   "id": "3e72e62e",
   "metadata": {
    "tags": []
   },
   "outputs": [
    {
     "name": "stdout",
     "output_type": "stream",
     "text": [
      "  string is builtin data type of python   \n",
      "2\n"
     ]
    },
    {
     "ename": "ValueError",
     "evalue": "substring not found",
     "output_type": "error",
     "traceback": [
      "\u001b[0;31m---------------------------------------------------------------------------\u001b[0m",
      "\u001b[0;31mValueError\u001b[0m                                Traceback (most recent call last)",
      "Cell \u001b[0;32mIn[13], line 3\u001b[0m\n\u001b[1;32m      1\u001b[0m \u001b[38;5;28mprint\u001b[39m(string_var)\n\u001b[1;32m      2\u001b[0m \u001b[38;5;28mprint\u001b[39m(string_var\u001b[38;5;241m.\u001b[39mindex(\u001b[38;5;124m'\u001b[39m\u001b[38;5;124ms\u001b[39m\u001b[38;5;124m'\u001b[39m))\n\u001b[0;32m----> 3\u001b[0m \u001b[38;5;28mprint\u001b[39m(\u001b[43mstring_var\u001b[49m\u001b[38;5;241;43m.\u001b[39;49m\u001b[43mupper\u001b[49m\u001b[43m(\u001b[49m\u001b[43m)\u001b[49m\u001b[38;5;241;43m.\u001b[39;49m\u001b[43mindex\u001b[49m\u001b[43m(\u001b[49m\u001b[38;5;124;43m'\u001b[39;49m\u001b[38;5;124;43ms\u001b[39;49m\u001b[38;5;124;43m'\u001b[39;49m\u001b[43m)\u001b[49m) \u001b[38;5;66;03m# метод index() возвращает индекс первого встреченного символа\u001b[39;00m\n",
      "\u001b[0;31mValueError\u001b[0m: substring not found"
     ]
    }
   ],
   "source": [
    "print(string_var)\n",
    "print(string_var.index('s'))\n",
    "print(string_var.upper().index('s')) # метод index() возвращает индекс первого встреченного символа"
   ]
  },
  {
   "attachments": {},
   "cell_type": "markdown",
   "id": "724ce8eb",
   "metadata": {},
   "source": [
    "<div class=\"alert alert-warning\">\n",
    "  <strong>Внимание!</strong> индексирование начинается с 0, далее 1, 2 ...! \n",
    "</div>"
   ]
  },
  {
   "cell_type": "code",
   "execution_count": 14,
   "id": "93259e4c",
   "metadata": {},
   "outputs": [
    {
     "name": "stdout",
     "output_type": "stream",
     "text": [
      "this is STRING IS BUILTIN DATA TYPE OF PYTHON\n"
     ]
    }
   ],
   "source": [
    "# join() и конкатенация\n",
    "a = 'this'\n",
    "b = 'is'\n",
    "c = ' '\n",
    "print(''.join(a+c+b+c+string_var.strip().upper()))"
   ]
  },
  {
   "cell_type": "code",
   "execution_count": null,
   "id": "2aff5c42-585e-4551-b103-ef9bc39431cb",
   "metadata": {},
   "outputs": [],
   "source": [
    "# a+c+b+c+string_var.strip().upper()"
   ]
  },
  {
   "cell_type": "code",
   "execution_count": 15,
   "id": "2b4f0a68",
   "metadata": {
    "tags": []
   },
   "outputs": [
    {
     "name": "stdout",
     "output_type": "stream",
     "text": [
      "s1.join(s2): 1abc2abc3\n",
      "s2.join(s1): a123b123c\n"
     ]
    }
   ],
   "source": [
    "s1 = 'abc'\n",
    "s2 = '123'\n",
    "\n",
    "# каждый элемент s2 разделён s1\n",
    "# '1'+ 'abc'+ '2'+ 'abc'+ '3'\n",
    "print('s1.join(s2):', s1.join(s2))\n",
    "\n",
    "# каждый элемент s1 разделён s2\n",
    "# 'a'+ '123'+ 'b'+ '123'+ 'b'\n",
    "print('s2.join(s1):', s2.join(s1))"
   ]
  },
  {
   "cell_type": "code",
   "execution_count": 17,
   "id": "9ba7543e",
   "metadata": {
    "tags": []
   },
   "outputs": [
    {
     "data": {
      "text/plain": [
       "'Artur, Larisa, Dima'"
      ]
     },
     "execution_count": 17,
     "metadata": {},
     "output_type": "execute_result"
    }
   ],
   "source": [
    "', '.join(['Artur', 'Larisa', 'Dima']) "
   ]
  },
  {
   "cell_type": "code",
   "execution_count": 34,
   "id": "cf9a7469",
   "metadata": {
    "tags": []
   },
   "outputs": [
    {
     "name": "stdout",
     "output_type": "stream",
     "text": [
      "1; 2; 3; 4\n",
      "1; 2; 3; 4\n"
     ]
    }
   ],
   "source": [
    "# как работает join со списками и кортежами\n",
    "\n",
    "separator = '; '\n",
    "\n",
    "# .join() и списки\n",
    "num_list = ['1', '2', '3', '4']\n",
    "print(separator.join(num_list))\n",
    "\n",
    "# .join() и кортежи\n",
    "num_tuple = ('1', '2', '3', '4')\n",
    "print(separator.join(num_tuple))"
   ]
  },
  {
   "cell_type": "code",
   "execution_count": 35,
   "id": "a218cc6b",
   "metadata": {
    "tags": []
   },
   "outputs": [],
   "source": [
    "import re"
   ]
  },
  {
   "cell_type": "code",
   "execution_count": 36,
   "id": "2596d6fe-57f3-416e-92d7-0db0f8fccd36",
   "metadata": {
    "tags": []
   },
   "outputs": [
    {
     "data": {
      "text/plain": [
       "'egg'"
      ]
     },
     "execution_count": 36,
     "metadata": {},
     "output_type": "execute_result"
    }
   ],
   "source": [
    "m = re.search(r'(?<=-)\\w+', 'spam-egg')\n",
    "m.group(0)"
   ]
  },
  {
   "cell_type": "code",
   "execution_count": 23,
   "id": "7c854a90",
   "metadata": {
    "tags": []
   },
   "outputs": [
    {
     "name": "stdout",
     "output_type": "stream",
     "text": [
      "String  is \n",
      " builtin data,     type of python\n"
     ]
    },
    {
     "data": {
      "text/plain": [
       "['String',\n",
       " '',\n",
       " 'is',\n",
       " '\\n',\n",
       " 'builtin',\n",
       " 'data,',\n",
       " '',\n",
       " '',\n",
       " '',\n",
       " '',\n",
       " 'type',\n",
       " 'of',\n",
       " 'python']"
      ]
     },
     "execution_count": 23,
     "metadata": {},
     "output_type": "execute_result"
    }
   ],
   "source": [
    "# split() возвращает СПИСОК элементов типа str\n",
    "string_var = 'String  is \\n builtin data,     type of python'\n",
    "print(string_var)\n",
    "\n",
    "# string_var.split()\n",
    "# string_var.split('\\n')\n",
    "string_var.split(' ')"
   ]
  },
  {
   "attachments": {},
   "cell_type": "markdown",
   "id": "56d6de33",
   "metadata": {},
   "source": [
    "Разделитель по умолчанию – пробельный символ"
   ]
  },
  {
   "cell_type": "code",
   "execution_count": 26,
   "id": "a6a25aa7",
   "metadata": {
    "tags": []
   },
   "outputs": [
    {
     "name": "stdout",
     "output_type": "stream",
     "text": [
      "['hello,', 'world']\n",
      "['hello', ' world']\n"
     ]
    }
   ],
   "source": [
    "# разделитель можно указывать свой, например, запятую (тогда пробелы считаются внутри элемента справа от пробела)\n",
    "print('hello, world'.split())\n",
    "print('hello, world'.split(','))"
   ]
  },
  {
   "attachments": {},
   "cell_type": "markdown",
   "id": "9ecac29d",
   "metadata": {},
   "source": [
    "## Форматирование строк"
   ]
  },
  {
   "attachments": {},
   "cell_type": "markdown",
   "id": "48e0d89d",
   "metadata": {},
   "source": [
    "подробнее про [форматирование](https://pythonworld.ru/osnovy/formatirovanie-strok-metod-format.html)\n",
    "    "
   ]
  },
  {
   "attachments": {},
   "cell_type": "markdown",
   "id": "f8f41f14",
   "metadata": {},
   "source": [
    "    .format()"
   ]
  },
  {
   "cell_type": "code",
   "execution_count": 27,
   "id": "d1e14acd",
   "metadata": {
    "tags": []
   },
   "outputs": [
    {
     "name": "stdout",
     "output_type": "stream",
     "text": [
      "Hello, {} {}!\n"
     ]
    }
   ],
   "source": [
    "hello = 'Hello'\n",
    "name = 'John'\n",
    "surname = 'Dow'\n",
    "\n",
    "# подстановка производится по порядку передачи аргументов\n",
    "hello_msg = 'Hello, {} {}!' #.format(name, surname) \n",
    "print(hello_msg)"
   ]
  },
  {
   "cell_type": "code",
   "execution_count": 30,
   "id": "466b6ad8-08c9-4d00-b82b-566cfc5dcac4",
   "metadata": {
    "tags": []
   },
   "outputs": [
    {
     "data": {
      "text/plain": [
       "'Hello, John Dow!'"
      ]
     },
     "execution_count": 30,
     "metadata": {},
     "output_type": "execute_result"
    }
   ],
   "source": [
    "hello_msg.format(name, surname)"
   ]
  },
  {
   "cell_type": "code",
   "execution_count": 32,
   "id": "ec197c50",
   "metadata": {
    "tags": []
   },
   "outputs": [
    {
     "data": {
      "text/plain": [
       "'John, Dow Hello!'"
      ]
     },
     "execution_count": 32,
     "metadata": {},
     "output_type": "execute_result"
    }
   ],
   "source": [
    "'{0}, {1} {2}!'.format(name, surname, hello) # можно указывать порядок подстановки"
   ]
  },
  {
   "attachments": {},
   "cell_type": "markdown",
   "id": "8815ff14",
   "metadata": {},
   "source": [
    "    f-string"
   ]
  },
  {
   "cell_type": "code",
   "execution_count": 54,
   "id": "25f960ac",
   "metadata": {
    "tags": []
   },
   "outputs": [
    {
     "data": {
      "text/plain": [
       "'Hello, John Dow!'"
      ]
     },
     "execution_count": 54,
     "metadata": {},
     "output_type": "execute_result"
    }
   ],
   "source": [
    "f'Hello, {name} {surname}!' # имя переменной внутри фигурных скобок, вначале строки символ f"
   ]
  },
  {
   "attachments": {},
   "cell_type": "markdown",
   "id": "efa3b155",
   "metadata": {},
   "source": [
    "    оператор %"
   ]
  },
  {
   "cell_type": "code",
   "execution_count": null,
   "id": "694a693c-30d1-400c-8d81-7defa29e0d3d",
   "metadata": {},
   "outputs": [],
   "source": [
    "# '%x' % 42"
   ]
  },
  {
   "cell_type": "code",
   "execution_count": 38,
   "id": "c97ecbcd",
   "metadata": {
    "tags": []
   },
   "outputs": [
    {
     "data": {
      "text/plain": [
       "'Hello, John Dow, today smth is 42.000000'"
      ]
     },
     "execution_count": 38,
     "metadata": {},
     "output_type": "execute_result"
    }
   ],
   "source": [
    "'%s, %s %s, today smth is %f' % (hello, name, surname, 42.0)"
   ]
  },
  {
   "attachments": {},
   "cell_type": "markdown",
   "id": "31a1e9d2",
   "metadata": {},
   "source": [
    "[подробнее](https://pythonworld.ru/osnovy/formatirovanie-strok-operator.html)"
   ]
  },
  {
   "attachments": {},
   "cell_type": "markdown",
   "id": "05d61c10",
   "metadata": {},
   "source": [
    "# Методы списков"
   ]
  },
  {
   "attachments": {},
   "cell_type": "markdown",
   "id": "96b2f214",
   "metadata": {},
   "source": [
    "<div class=\"alert alert-info\">\n",
    "  <strong> Список </strong> – изменяемая (!) упорядоченная последовательность элементов\n",
    "</div>\n",
    "    "
   ]
  },
  {
   "attachments": {},
   "cell_type": "markdown",
   "id": "81d8246f",
   "metadata": {},
   "source": [
    "## Способы создания list/tuple"
   ]
  },
  {
   "cell_type": "code",
   "execution_count": 42,
   "id": "d2531a56",
   "metadata": {
    "tags": []
   },
   "outputs": [
    {
     "data": {
      "text/plain": [
       "['элемент раз', 3, 1.0, 4, [1, 2], {4: 42}]"
      ]
     },
     "execution_count": 42,
     "metadata": {},
     "output_type": "execute_result"
    }
   ],
   "source": [
    "# Задать список можно так:\n",
    "\n",
    "['элемент раз', 3, 1.0, 4, [1, 2], {4: 42}] # записав внутри квадратных скобок некоторое количество элементов"
   ]
  },
  {
   "cell_type": "code",
   "execution_count": 43,
   "id": "0e595d69",
   "metadata": {
    "tags": []
   },
   "outputs": [
    {
     "name": "stdout",
     "output_type": "stream",
     "text": [
      "[2, 3]\n",
      "[1, 3, 5, 7, 9]\n"
     ]
    }
   ],
   "source": [
    "# Или вот так:\n",
    "\n",
    "print(list((2, 3))) # передав внутрь list({какой-то объект-последовательность}), например, кортеж\n",
    "print(list(range(1,10,2))) "
   ]
  },
  {
   "cell_type": "code",
   "execution_count": 44,
   "id": "c54c875d",
   "metadata": {
    "tags": []
   },
   "outputs": [
    {
     "data": {
      "text/plain": [
       "['a', 'a', 'a', 'a', ' ', ' ', ' ']"
      ]
     },
     "execution_count": 44,
     "metadata": {},
     "output_type": "execute_result"
    }
   ],
   "source": [
    "list('aaaa   ')"
   ]
  },
  {
   "cell_type": "code",
   "execution_count": 45,
   "id": "47fe4e66",
   "metadata": {
    "tags": []
   },
   "outputs": [
    {
     "name": "stdout",
     "output_type": "stream",
     "text": [
      "range(0, 10)\n"
     ]
    },
    {
     "data": {
      "text/plain": [
       "range"
      ]
     },
     "execution_count": 45,
     "metadata": {},
     "output_type": "execute_result"
    }
   ],
   "source": [
    "# выше мы использовали встроенную функцию range() \n",
    "# она создаёт объект-последовательность, принимает \"начало\", \"конец(не включая)\" и \"шаг\" через запятую\n",
    "# если подать одно число – это считается \"концом\" последовательности, начало по умолчанию равно 0\n",
    "\n",
    "r = range(10) # задаём переменную r\n",
    "\n",
    "# r - это объект типа \"range\"\n",
    "print(r)   \n",
    "type(r) #  объекта мы узнаём с помощью функции type()"
   ]
  },
  {
   "cell_type": "code",
   "execution_count": 46,
   "id": "5c297b7a",
   "metadata": {
    "tags": []
   },
   "outputs": [
    {
     "name": "stdout",
     "output_type": "stream",
     "text": [
      "[0, 1, 2, 3, 4, 5, 6, 7, 8, 9]\n",
      "(0, 1, 2, 3, 4, 5, 6, 7, 8, 9)\n"
     ]
    }
   ],
   "source": [
    "# создаём и выводим список и кортеж из range-объекта\n",
    "print(list(r))\n",
    "print(tuple(r))"
   ]
  },
  {
   "cell_type": "code",
   "execution_count": 47,
   "id": "2bd337f5",
   "metadata": {
    "tags": []
   },
   "outputs": [],
   "source": [
    "my_list = [1, 2.2, 'три', [404, 416], 42, (0, 0, 0)]"
   ]
  },
  {
   "attachments": {},
   "cell_type": "markdown",
   "id": "5853f092",
   "metadata": {},
   "source": [
    "## Методы списков "
   ]
  },
  {
   "cell_type": "code",
   "execution_count": 48,
   "id": "468ed6de",
   "metadata": {
    "tags": []
   },
   "outputs": [
    {
     "data": {
      "text/plain": [
       "('три', (0, 0, 0))"
      ]
     },
     "execution_count": 48,
     "metadata": {},
     "output_type": "execute_result"
    }
   ],
   "source": [
    "my_list[2], my_list[-1] # доступ к элементу по индексу"
   ]
  },
  {
   "attachments": {},
   "cell_type": "markdown",
   "id": "a18394f8",
   "metadata": {},
   "source": [
    "Схожим образом работает срез, он записывается в квадратных скобках \\[**начало_среза включая** : **конец_среза не включая этот элемент** : **шаг**]\n",
    "\n",
    "\n",
    "[start:stop)"
   ]
  },
  {
   "cell_type": "code",
   "execution_count": 50,
   "id": "5e69849e",
   "metadata": {
    "tags": []
   },
   "outputs": [
    {
     "name": "stdout",
     "output_type": "stream",
     "text": [
      "[1]\n",
      "[2.2, 'три']\n",
      "['три', [404, 416], 42]\n",
      "[1, 'три']\n",
      "[(0, 0, 0), [404, 416], 2.2]\n",
      "[(0, 0, 0), 42, [404, 416], 'три', 2.2, 1]\n"
     ]
    }
   ],
   "source": [
    "# примеры работы срезов (работают с упорядоченными последовательностями) - суши-оператор\n",
    "print(my_list[0:1])\n",
    "print(my_list[1:3])\n",
    "print(my_list[2:5])\n",
    "print(my_list[0:4:2])\n",
    "print(my_list[::-2])\n",
    "print(my_list[::])\n",
    "print(my_list[::-1])"
   ]
  },
  {
   "cell_type": "code",
   "execution_count": 62,
   "id": "ef4ade8e",
   "metadata": {
    "tags": []
   },
   "outputs": [
    {
     "data": {
      "text/plain": [
       "[4, 5]"
      ]
     },
     "execution_count": 62,
     "metadata": {},
     "output_type": "execute_result"
    }
   ],
   "source": [
    "l = [1, 2, 3, 4, 5, 6]\n",
    "l[3:5]  # [3:5)"
   ]
  },
  {
   "cell_type": "code",
   "execution_count": 63,
   "id": "dfa8d742",
   "metadata": {
    "tags": []
   },
   "outputs": [
    {
     "name": "stdout",
     "output_type": "stream",
     "text": [
      "[1, 2, 3, 4, 5, 6, 7]\n",
      "[1, 2, 3, 4, 5, 6, 7, 7]\n",
      "[1, 2, 3, 4, 5, 6, 7, 7, 7]\n"
     ]
    }
   ],
   "source": [
    "# append() добавляет в конец списка новый элемент\n",
    "\n",
    "l.append(7)\n",
    "print(l)\n",
    "l.append(7)\n",
    "print(l)\n",
    "l.append(7)\n",
    "print(l)"
   ]
  },
  {
   "cell_type": "code",
   "execution_count": 64,
   "id": "fa9a6243-597a-4573-89a7-5e21028d9e6a",
   "metadata": {
    "tags": []
   },
   "outputs": [
    {
     "name": "stdout",
     "output_type": "stream",
     "text": [
      "<class 'NoneType'>\n"
     ]
    }
   ],
   "source": [
    "print(type(l.append(7)))"
   ]
  },
  {
   "cell_type": "code",
   "execution_count": 65,
   "id": "7f520d3d-b755-429f-bc76-126161f4c873",
   "metadata": {
    "tags": []
   },
   "outputs": [
    {
     "data": {
      "text/plain": [
       "[1, 2, 3, 4, 5, 6, 7, 7, 7, 7]"
      ]
     },
     "execution_count": 65,
     "metadata": {},
     "output_type": "execute_result"
    }
   ],
   "source": [
    "l"
   ]
  },
  {
   "cell_type": "code",
   "execution_count": 66,
   "id": "53dbbb7e-b9c7-42bb-b1d0-cbb493b17660",
   "metadata": {
    "tags": []
   },
   "outputs": [],
   "source": [
    "def func(arg):\n",
    "    print(arg)"
   ]
  },
  {
   "cell_type": "code",
   "execution_count": 67,
   "id": "cc27e944-8ff2-4515-8b50-e054bfb6eca2",
   "metadata": {
    "tags": []
   },
   "outputs": [
    {
     "name": "stdout",
     "output_type": "stream",
     "text": [
      "2\n"
     ]
    },
    {
     "data": {
      "text/plain": [
       "NoneType"
      ]
     },
     "execution_count": 67,
     "metadata": {},
     "output_type": "execute_result"
    }
   ],
   "source": [
    "type(func(2))"
   ]
  },
  {
   "cell_type": "code",
   "execution_count": 68,
   "id": "443de693",
   "metadata": {
    "tags": []
   },
   "outputs": [
    {
     "name": "stdout",
     "output_type": "stream",
     "text": [
      "[1, 2, 3, 4, 5, 6, 7, 7, 7, 7] изначальный список\n",
      "2 – значение элемента по индексу \"1\"\n",
      "[1, 3, 4, 5, 6, 7, 7, 7, 7] тот же список, но без элемента, изъятого в прошлой инструкции\n",
      "6 – значение элемента по индексу \"4\"... и так далее:\n",
      "[1, 3, 4, 5, 7, 7, 7, 7]\n",
      "7\n",
      "[1, 3, 4, 5, 7, 7, 7]\n"
     ]
    }
   ],
   "source": [
    "# pop() удаляет i-ый элемент и возвращает его. Без указания индекса удаляется последний элемент в списке\n",
    "\n",
    "print(l, 'изначальный список')\n",
    "print(l.pop(1), '– значение элемента по индексу \"1\"')\n",
    "print(l, 'тот же список, но без элемента, изъятого в прошлой инструкции')\n",
    "print(l.pop(4), '– значение элемента по индексу \"4\"... и так далее:')\n",
    "print(l) \n",
    "print(l.pop())\n",
    "print(l)"
   ]
  },
  {
   "cell_type": "code",
   "execution_count": 69,
   "id": "c1c5e08c",
   "metadata": {
    "tags": []
   },
   "outputs": [
    {
     "data": {
      "text/plain": [
       "[1, 3, -99, 5, 7, 7, 7]"
      ]
     },
     "execution_count": 69,
     "metadata": {},
     "output_type": "execute_result"
    }
   ],
   "source": [
    "l.pop(2)\n",
    "l.insert(2, -99)\n",
    "l"
   ]
  },
  {
   "cell_type": "code",
   "execution_count": 71,
   "id": "55ab9353",
   "metadata": {
    "tags": []
   },
   "outputs": [
    {
     "ename": "ValueError",
     "evalue": "-99 is not in list",
     "output_type": "error",
     "traceback": [
      "\u001b[0;31m---------------------------------------------------------------------------\u001b[0m",
      "\u001b[0;31mValueError\u001b[0m                                Traceback (most recent call last)",
      "Cell \u001b[0;32mIn[71], line 1\u001b[0m\n\u001b[0;32m----> 1\u001b[0m l[\u001b[43ml\u001b[49m\u001b[38;5;241;43m.\u001b[39;49m\u001b[43mindex\u001b[49m\u001b[43m(\u001b[49m\u001b[38;5;241;43m-\u001b[39;49m\u001b[38;5;241;43m99\u001b[39;49m\u001b[43m)\u001b[49m] \u001b[38;5;241m=\u001b[39m \u001b[38;5;241m0\u001b[39m\n\u001b[1;32m      2\u001b[0m l\n",
      "\u001b[0;31mValueError\u001b[0m: -99 is not in list"
     ]
    }
   ],
   "source": [
    "l[l.index(-99)] = 0\n",
    "l"
   ]
  },
  {
   "attachments": {},
   "cell_type": "markdown",
   "id": "a2118369",
   "metadata": {},
   "source": [
    "# Циклы "
   ]
  },
  {
   "attachments": {},
   "cell_type": "markdown",
   "id": "47991ac3",
   "metadata": {},
   "source": [
    "подробнее https://youtu.be/bjM4MkvC8-A"
   ]
  },
  {
   "attachments": {},
   "cell_type": "markdown",
   "id": "27a8cbc1",
   "metadata": {},
   "source": [
    "## while"
   ]
  },
  {
   "cell_type": "code",
   "execution_count": 74,
   "id": "b75249f7",
   "metadata": {
    "tags": []
   },
   "outputs": [
    {
     "name": "stdout",
     "output_type": "stream",
     "text": [
      "9\n",
      "8\n",
      "7\n",
      "6\n",
      "5\n",
      "4\n",
      "3\n",
      "2\n",
      "1\n",
      "0\n"
     ]
    }
   ],
   "source": [
    "# цикл while \n",
    "\n",
    "p = 10 # len(numbers)\n",
    "while p > 0:\n",
    "    p -= 1\n",
    "    print(p)"
   ]
  },
  {
   "attachments": {},
   "cell_type": "markdown",
   "id": "a61b9930",
   "metadata": {},
   "source": [
    "## for "
   ]
  },
  {
   "attachments": {},
   "cell_type": "markdown",
   "id": "5388e7c2",
   "metadata": {},
   "source": [
    "подробнее https://pythontutor.ru/lessons/for_loop/"
   ]
  },
  {
   "cell_type": "code",
   "execution_count": 115,
   "id": "dcd638fa",
   "metadata": {
    "tags": []
   },
   "outputs": [],
   "source": [
    "# для каждого элемента внутри исчиляемого (iterable):"
   ]
  },
  {
   "cell_type": "code",
   "execution_count": 77,
   "id": "a952969e",
   "metadata": {
    "tags": []
   },
   "outputs": [],
   "source": [
    "numbers = [1, 2, 3, 4, 5, 6, 7, 8, 13, 14, 114, 144, 1444]\n",
    "numbers = numbers[::-1]"
   ]
  },
  {
   "cell_type": "code",
   "execution_count": 78,
   "id": "3808c651",
   "metadata": {
    "tags": []
   },
   "outputs": [
    {
     "name": "stdout",
     "output_type": "stream",
     "text": [
      "2085136\n",
      "20736\n",
      "12996\n",
      "196\n",
      "169\n",
      "64\n",
      "49\n",
      "36\n",
      "25\n",
      "16\n",
      "9\n",
      "4\n",
      "1\n"
     ]
    }
   ],
   "source": [
    "for num in numbers:\n",
    "    print(num**2)"
   ]
  },
  {
   "cell_type": "code",
   "execution_count": 81,
   "id": "ca4f1079-5da6-4ecc-b755-3d6ca705c994",
   "metadata": {
    "tags": []
   },
   "outputs": [
    {
     "name": "stdout",
     "output_type": "stream",
     "text": [
      "0 word\n",
      "1 blah\n",
      "2 blah-blah,\n",
      "3 word\n"
     ]
    }
   ],
   "source": [
    "k = 0\n",
    "for i in 'word blah blah-blah, word'.split():\n",
    "    print(k, i)\n",
    "    k += 1"
   ]
  },
  {
   "cell_type": "code",
   "execution_count": 82,
   "id": "75e94804-1372-4873-bd1a-79565733026d",
   "metadata": {
    "tags": []
   },
   "outputs": [
    {
     "name": "stdout",
     "output_type": "stream",
     "text": [
      "(0, '1')\n",
      "(1, '2')\n",
      "(2, 3)\n",
      "(3, 4)\n"
     ]
    }
   ],
   "source": [
    "for item in enumerate(['1', '2', 3, 4]):\n",
    "    print(item)"
   ]
  },
  {
   "cell_type": "code",
   "execution_count": 83,
   "id": "eafaf5c1-e69d-4723-a046-d186f0c72092",
   "metadata": {
    "tags": []
   },
   "outputs": [
    {
     "name": "stdout",
     "output_type": "stream",
     "text": [
      "1\n",
      "0\n"
     ]
    }
   ],
   "source": [
    "a, b = (0, 1)\n",
    "a, b = b, a\n",
    "print(a)\n",
    "print(b)"
   ]
  },
  {
   "cell_type": "code",
   "execution_count": 84,
   "id": "a0eb4285-c01d-44d8-8d7c-dcf484d7dc1a",
   "metadata": {
    "tags": []
   },
   "outputs": [
    {
     "name": "stdout",
     "output_type": "stream",
     "text": [
      "1\n",
      "4\n",
      "9\n",
      "16\n"
     ]
    }
   ],
   "source": [
    "for index, number in enumerate([1, 2, 3, 4]):\n",
    "    print(number**2)"
   ]
  },
  {
   "cell_type": "code",
   "execution_count": 88,
   "id": "c7f446b3-6877-48fd-97a6-cc59ebc18bcb",
   "metadata": {
    "tags": []
   },
   "outputs": [
    {
     "name": "stdout",
     "output_type": "stream",
     "text": [
      "1\n",
      "4\n",
      "9\n"
     ]
    }
   ],
   "source": [
    "# for index, number in enumerate([1, 2, 3, 4]):\n",
    "#     print(index)\n",
    "\n",
    "# k = 0\n",
    "# for number in [1, 2, 3, 4]:\n",
    "#     print(number)\n",
    "#     if k==2:\n",
    "#         break\n",
    "#     k += 1\n",
    "        \n",
    "for index, number in enumerate([1, 2, 3, 4, 5]):\n",
    "    print(number**2)\n",
    "    if index==2:\n",
    "        break"
   ]
  },
  {
   "cell_type": "code",
   "execution_count": 87,
   "id": "e7302747-dcd3-41b4-94d3-5c22c1e6d99b",
   "metadata": {
    "tags": []
   },
   "outputs": [
    {
     "name": "stdout",
     "output_type": "stream",
     "text": [
      "1\n",
      "4\n",
      "16\n",
      "25\n"
     ]
    }
   ],
   "source": [
    "for index, number in enumerate([1, 2, 3, 4, 5]):\n",
    "    if index==2:\n",
    "        continue\n",
    "    print(number**2)"
   ]
  },
  {
   "cell_type": "code",
   "execution_count": 89,
   "id": "3d56f0ef",
   "metadata": {
    "tags": []
   },
   "outputs": [
    {
     "name": "stdout",
     "output_type": "stream",
     "text": [
      "0\n",
      "3\n"
     ]
    }
   ],
   "source": [
    "words = 'word blah blah-blah, word'.split()\n",
    "\n",
    "for index, value in enumerate(words):\n",
    "    if 'blah' not in value:\n",
    "        print(index)"
   ]
  },
  {
   "cell_type": "code",
   "execution_count": 93,
   "id": "0cf06ab3-587e-4880-a4d4-e929dfc3df31",
   "metadata": {},
   "outputs": [
    {
     "data": {
      "text/plain": [
       "[1444, 144, 114, 14, 13, 8, 7, 6, 5, 4, 3, 2, 1]"
      ]
     },
     "execution_count": 93,
     "metadata": {},
     "output_type": "execute_result"
    }
   ],
   "source": [
    "numbers"
   ]
  },
  {
   "cell_type": "code",
   "execution_count": 94,
   "id": "c4f6e58f",
   "metadata": {
    "tags": []
   },
   "outputs": [
    {
     "data": {
      "text/plain": [
       "[0, 1, 2, 3, 5, 7, 9, 11]"
      ]
     },
     "execution_count": 94,
     "metadata": {},
     "output_type": "execute_result"
    }
   ],
   "source": [
    "index_list = []\n",
    "for index, value in enumerate(numbers):\n",
    "    if value%2==0:\n",
    "        index_list.append(index)\n",
    "        \n",
    "index_list"
   ]
  },
  {
   "cell_type": "code",
   "execution_count": 95,
   "id": "37333595",
   "metadata": {},
   "outputs": [
    {
     "data": {
      "text/plain": [
       "[0, 1, 2, 3, 5, 7, 9, 11]"
      ]
     },
     "execution_count": 95,
     "metadata": {},
     "output_type": "execute_result"
    }
   ],
   "source": [
    "# print(numbers)\n",
    "index_list = []\n",
    "i = 0\n",
    "for value in numbers:\n",
    "    if value%2==0:\n",
    "        index_list.append(i)\n",
    "    i+=1\n",
    "        \n",
    "index_list"
   ]
  },
  {
   "attachments": {},
   "cell_type": "markdown",
   "id": "10db4738",
   "metadata": {
    "tags": []
   },
   "source": [
    "# List comprehension"
   ]
  },
  {
   "attachments": {},
   "cell_type": "markdown",
   "id": "a2c05b7f",
   "metadata": {},
   "source": [
    "Подробнее https://webdevblog.ru/kogda-ispolzovat-list-comprehension-v-python/"
   ]
  },
  {
   "cell_type": "code",
   "execution_count": 96,
   "id": "6bd481ae-df58-4005-b6b6-1c382b379839",
   "metadata": {
    "tags": []
   },
   "outputs": [],
   "source": [
    "numbers = list(range(10))"
   ]
  },
  {
   "cell_type": "code",
   "execution_count": 97,
   "id": "37ae585d-3525-45c0-be0c-7debf2aa622e",
   "metadata": {
    "tags": []
   },
   "outputs": [
    {
     "data": {
      "text/plain": [
       "[0, 1, 4, 9, 16, 25, 36, 49, 64, 81]"
      ]
     },
     "execution_count": 97,
     "metadata": {},
     "output_type": "execute_result"
    }
   ],
   "source": [
    "squared_numbers = []\n",
    "for number in numbers:\n",
    "    squared_numbers.append(number**2)\n",
    "squared_numbers"
   ]
  },
  {
   "cell_type": "code",
   "execution_count": 99,
   "id": "4fd31806-3059-4f26-bc19-4eea9293a226",
   "metadata": {
    "tags": []
   },
   "outputs": [
    {
     "data": {
      "text/plain": [
       "[0, 1, 4, 9, 16, 25, 36, 49, 64, 81]"
      ]
     },
     "execution_count": 99,
     "metadata": {},
     "output_type": "execute_result"
    }
   ],
   "source": [
    "squared_numbers = [number**2 for number in numbers]\n",
    "squared_numbers"
   ]
  },
  {
   "cell_type": "code",
   "execution_count": 100,
   "id": "9d629fe2-a839-43ec-b257-5f1a0b05264e",
   "metadata": {
    "tags": []
   },
   "outputs": [
    {
     "data": {
      "text/plain": [
       "[0, 4, 16, 36, 64]"
      ]
     },
     "execution_count": 100,
     "metadata": {},
     "output_type": "execute_result"
    }
   ],
   "source": [
    "squared_numbers = []\n",
    "for num in numbers:\n",
    "    if num%2==0:\n",
    "        squared_numbers.append(num**2)\n",
    "    # else:\n",
    "    #     squared_numbers.append(0)\n",
    "squared_numbers     "
   ]
  },
  {
   "cell_type": "code",
   "execution_count": 132,
   "id": "436acba2-2a6d-4b29-8521-7e781f2f31cf",
   "metadata": {
    "tags": []
   },
   "outputs": [
    {
     "data": {
      "text/plain": [
       "100"
      ]
     },
     "execution_count": 132,
     "metadata": {},
     "output_type": "execute_result"
    }
   ],
   "source": [
    "num = 10\n",
    "\n",
    "# if num%2==0:\n",
    "#     print(num**2)\n",
    "# else:\n",
    "#     print(-99)\n",
    "\n",
    "var = num**2 if num%2==0 else -99  # тернарный оператор\n",
    "var"
   ]
  },
  {
   "cell_type": "code",
   "execution_count": 123,
   "id": "2a707d98",
   "metadata": {
    "tags": []
   },
   "outputs": [
    {
     "name": "stdout",
     "output_type": "stream",
     "text": [
      "[0, 0, 4, 0, 16, 0, 36, 0, 64, 0]\n",
      "[0, 4, 16, 36, 64]\n"
     ]
    }
   ],
   "source": [
    "# используя условные инструкции\n",
    "full_lc = [num**2 if num%2==0 else 0 for num in numbers]\n",
    "short_lc = [num**2 for num in numbers if num%2==0]\n",
    "\n",
    "print(full_lc)\n",
    "print(short_lc)"
   ]
  },
  {
   "cell_type": "code",
   "execution_count": 124,
   "id": "472621fa-43a7-4c9b-8769-1ea6c812e299",
   "metadata": {
    "tags": []
   },
   "outputs": [
    {
     "name": "stdout",
     "output_type": "stream",
     "text": [
      "The Zen of Python, by Tim Peters\n",
      "\n",
      "Beautiful is better than ugly.\n",
      "Explicit is better than implicit.\n",
      "Simple is better than complex.\n",
      "Complex is better than complicated.\n",
      "Flat is better than nested.\n",
      "Sparse is better than dense.\n",
      "Readability counts.\n",
      "Special cases aren't special enough to break the rules.\n",
      "Although practicality beats purity.\n",
      "Errors should never pass silently.\n",
      "Unless explicitly silenced.\n",
      "In the face of ambiguity, refuse the temptation to guess.\n",
      "There should be one-- and preferably only one --obvious way to do it.\n",
      "Although that way may not be obvious at first unless you're Dutch.\n",
      "Now is better than never.\n",
      "Although never is often better than *right* now.\n",
      "If the implementation is hard to explain, it's a bad idea.\n",
      "If the implementation is easy to explain, it may be a good idea.\n",
      "Namespaces are one honking great idea -- let's do more of those!\n"
     ]
    }
   ],
   "source": [
    "import this"
   ]
  },
  {
   "cell_type": "code",
   "execution_count": null,
   "id": "7db01b2c-d41d-4d93-9cff-cfeae543d3bf",
   "metadata": {},
   "outputs": [],
   "source": []
  },
  {
   "cell_type": "code",
   "execution_count": 101,
   "id": "be6cdaa0-b2e0-4034-b645-16edc61adda1",
   "metadata": {},
   "outputs": [
    {
     "data": {
      "text/plain": [
       "{0: 0, 1: 1, 2: 4, 3: 9, 4: 16, 5: 25, 6: 36, 7: 49, 8: 64, 9: 81}"
      ]
     },
     "execution_count": 101,
     "metadata": {},
     "output_type": "execute_result"
    }
   ],
   "source": [
    "squared_numbers = {number: number**2 for number in numbers}  # dict comprehension\n",
    "squared_numbers"
   ]
  },
  {
   "attachments": {},
   "cell_type": "markdown",
   "id": "c54051e3",
   "metadata": {},
   "source": [
    "# Распаковка"
   ]
  },
  {
   "attachments": {},
   "cell_type": "markdown",
   "id": "da1417d2",
   "metadata": {},
   "source": [
    "Подробнее https://tproger.ru/translations/asterisks-in-python-what-they-are-and-how-to-use-them/"
   ]
  },
  {
   "attachments": {},
   "cell_type": "markdown",
   "id": "264f7657",
   "metadata": {},
   "source": [
    "## Задание"
   ]
  },
  {
   "cell_type": "code",
   "execution_count": null,
   "id": "27d63aa2",
   "metadata": {},
   "outputs": [],
   "source": [
    "# НА ДОМ конспект на тему:\n",
    "# распаковка \n",
    "# args, kwargs"
   ]
  },
  {
   "cell_type": "code",
   "execution_count": null,
   "id": "8f4f8f00-412c-495b-9557-985933866108",
   "metadata": {},
   "outputs": [],
   "source": [
    "# Дан словарь с разной степенью вложенности. На нижнем уровне обязательно число\n",
    "# Написать функцию, которая будет генерировать пары\n",
    "# (str(ключи, соединенные через точку); значение)\n",
    "\n",
    "a = {\n",
    "    'b': 1,\n",
    "    'c':{\n",
    "        'd': 2,\n",
    "        'e':{'f': 3, \n",
    "             'g': 4\n",
    "            }\n",
    "         },\n",
    "    'k': 4,\n",
    "    'l':{'t': 45, \n",
    "         'y': 353\n",
    "        },\n",
    "    'aa': 4,\n",
    "    'oh':{'my': 45, \n",
    "          'py':{'pi': 45, \n",
    "                'th': {'on': 353}\n",
    "                  }\n",
    "           }\n",
    "}\n",
    "\n",
    "def compact_dict(md: dict):\n",
    "    pass\n",
    "\n",
    "\n",
    "# \"\"\"\n",
    "# # ответ\n",
    "# [\n",
    "#  ('b', 1),\n",
    "#  ('c.d', 2),\n",
    "#  ('c.e.f', 3),\n",
    "#  ('c.e.g', 4),\n",
    "#  ('k', 4),\n",
    "#  ('l.t', 45),\n",
    "#  ('l.y', 353),\n",
    "#  ('aa', 4),\n",
    "#  ('oh.my', 45),\n",
    "#  ('oh.py.pi', 45),\n",
    "#  ('oh.py.th.on', 353)\n",
    "# ]\n",
    "# \"\"\""
   ]
  },
  {
   "cell_type": "code",
   "execution_count": null,
   "id": "3861e353-6772-4fff-9132-29d05cb554c2",
   "metadata": {},
   "outputs": [],
   "source": [
    "# Максимальный подмассив единиц\n",
    "\n",
    "# Дан массив из нулей и единиц. Нужно определить, какой максимальный \n",
    "# по длине подинтервал единиц можно получить, \n",
    "# удалив ровно один нулевой (число 0) элемент массива. \n",
    "# Требуется решение за линейное время O(N) (задание со звёздочкой, возможно вьетнамской в глаз)\n",
    "\n",
    "zeros_ones = [1, 1, 1, 1, 1, 0, 0, 1, 1, 1, 0, 1, 1, 0, 1, 1, 1, 1, 1, 0]\n",
    "\n",
    "def max_ones(list_of_numbers: list):\n",
    "    pass\n",
    "    \n",
    "max_ones(zeros_ones) == 7"
   ]
  },
  {
   "cell_type": "code",
   "execution_count": null,
   "id": "b2c46b20-924e-4d2a-a388-d2342ba42323",
   "metadata": {},
   "outputs": [],
   "source": []
  }
 ],
 "metadata": {
  "kernelspec": {
   "display_name": "Python 3 (ipykernel)",
   "language": "python",
   "name": "python3"
  },
  "language_info": {
   "codemirror_mode": {
    "name": "ipython",
    "version": 3
   },
   "file_extension": ".py",
   "mimetype": "text/x-python",
   "name": "python",
   "nbconvert_exporter": "python",
   "pygments_lexer": "ipython3",
   "version": "3.10.9"
  },
  "toc": {
   "base_numbering": 1,
   "nav_menu": {},
   "number_sections": false,
   "sideBar": true,
   "skip_h1_title": false,
   "title_cell": "Table of Contents",
   "title_sidebar": "Contents",
   "toc_cell": false,
   "toc_position": {
    "height": "calc(100% - 180px)",
    "left": "10px",
    "top": "150px",
    "width": "165px"
   },
   "toc_section_display": true,
   "toc_window_display": true
  }
 },
 "nbformat": 4,
 "nbformat_minor": 5
}
