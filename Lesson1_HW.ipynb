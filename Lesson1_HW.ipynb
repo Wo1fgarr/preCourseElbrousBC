{
 "cells": [
  {
   "attachments": {},
   "cell_type": "markdown",
   "metadata": {},
   "source": [
    "## Первое задание"
   ]
  },
  {
   "cell_type": "code",
   "execution_count": 54,
   "metadata": {},
   "outputs": [
    {
     "data": {
      "text/plain": [
       "{'user/img_8889.png': 'person',\n",
       " 'user/img_8890.png': 'cat',\n",
       " 'user/img_8809.png': 'dog'}"
      ]
     },
     "execution_count": 54,
     "metadata": {},
     "output_type": "execute_result"
    }
   ],
   "source": [
    "# Есть нейросеть, которая предсказывает вероятность отнесения к тому или иному классу. \n",
    "# Нужно сделать функцию, которая принимает на вход список лейблов и словарь, где для каждой фотографии\n",
    "# есть список предсказаний позиционно совпадающий со списком лейблов. \n",
    "# Функция выдаёт словарь, где ключ - путь к фотографии, значение - наиболее вероятный класс/лейбл\n",
    "\n",
    "labels = ['cat', 'dog', 'person']\n",
    "predicts = {'prediction': [{'photo_path': 'user/img_8889.png', 'predicted_labels': [0.1, 0.2, 0.7]}, \n",
    "                           {'photo_path': 'user/img_8890.png', 'predicted_labels': [0.6, 0.2, 0.2]},\n",
    "                           {'photo_path': 'user/img_8809.png', 'predicted_labels': [0.1, 0.8, 0.1]}]}\n",
    "\n",
    "def get_labels(labels: list, preds: dict) -> dict:\n",
    "    result = {}\n",
    "    # получим ключи и значения для каждого словаря из списка словарей\n",
    "    for key, value in preds.items():\n",
    "        for i in range(len(value)):\n",
    "            # деструктурируем каждый словарь\n",
    "            photo_path, predicted_labels = value[i]\n",
    "            # для лучшей читаемости запишем значения в переменные\n",
    "            path = value[i][photo_path]\n",
    "            label = value[i][predicted_labels]\n",
    "            # получаем индекс максимального значения из предсказаний\n",
    "            current_label_index = label.index(max(label))\n",
    "            # перебираем лейблы и записываем в результат совпадение лейбла с предсказанием\n",
    "            # по индексу лейбла и индексу предсказания\n",
    "            for k in range(len(labels)):\n",
    "                if labels.index(labels[k]) == current_label_index:\n",
    "                   result[path] = labels[k]\n",
    "    \n",
    "    return result\n",
    "\n",
    "get_labels(labels, predicts)"
   ]
  },
  {
   "attachments": {},
   "cell_type": "markdown",
   "metadata": {},
   "source": [
    "## Дополнительное задание\n",
    "\n",
    "Напишите инструкции внутри функции, которые преобразует рандомное число в строку и повторяет её рандомное число раз"
   ]
  },
  {
   "cell_type": "code",
   "execution_count": 61,
   "metadata": {},
   "outputs": [
    {
     "data": {
      "text/plain": [
       "'7'"
      ]
     },
     "execution_count": 61,
     "metadata": {},
     "output_type": "execute_result"
    }
   ],
   "source": [
    "import random\n",
    "\n",
    "def random_number_repeater(start: int, stop: int) -> str:\n",
    "    \"\"\"Функция, которая  преобразует рандомное число в промежутке между [start:stop]\n",
    "    в строку и повторяет её рандомное число раз (также из промежутка [start:stop])\"\"\"\n",
    "    random_number = random.randint(start, stop)\n",
    "    random_counts = random.randint(start, stop)\n",
    "    \n",
    "    return str(random_number) * random_counts\n",
    "\n",
    "random_number_repeater(1, 10)"
   ]
  },
  {
   "attachments": {},
   "cell_type": "markdown",
   "metadata": {},
   "source": [
    "## Вопрос\n",
    "\n",
    "И ещё вопрос. Как посмотреть все используемые переменные?"
   ]
  },
  {
   "cell_type": "code",
   "execution_count": 62,
   "metadata": {},
   "outputs": [
    {
     "data": {
      "text/plain": [
       "'\\n    Пользоваться не приходилось, но гугл подсказывает, что можно посмотреть через:\\n    dir() предоставит вам список переменных области\\n    globals() даст вам словарь глобальных переменных\\n    locals() даст вам словарь локальных переменных\\n'"
      ]
     },
     "execution_count": 62,
     "metadata": {},
     "output_type": "execute_result"
    }
   ],
   "source": [
    "'''\n",
    "    Пользоваться не приходилось, но гугл подсказывает, что можно посмотреть через:\n",
    "    dir() предоставит вам список переменных области\n",
    "    globals() даст вам словарь глобальных переменных\n",
    "    locals() даст вам словарь локальных переменных\n",
    "'''"
   ]
  }
 ],
 "metadata": {
  "kernelspec": {
   "display_name": "Python 3",
   "language": "python",
   "name": "python3"
  },
  "language_info": {
   "codemirror_mode": {
    "name": "ipython",
    "version": 3
   },
   "file_extension": ".py",
   "mimetype": "text/x-python",
   "name": "python",
   "nbconvert_exporter": "python",
   "pygments_lexer": "ipython3",
   "version": "3.11.0"
  },
  "orig_nbformat": 4
 },
 "nbformat": 4,
 "nbformat_minor": 2
}
