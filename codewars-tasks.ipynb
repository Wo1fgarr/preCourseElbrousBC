{
 "cells": [
  {
   "attachments": {},
   "cell_type": "markdown",
   "id": "020ed966-f3a6-4071-89a5-370117e7aeb1",
   "metadata": {
    "tags": []
   },
   "source": [
    "# Задачки на Python"
   ]
  },
  {
   "attachments": {},
   "cell_type": "markdown",
   "id": "a8e005ff-1f7b-4afc-9a52-63da2c80fd2f",
   "metadata": {},
   "source": [
    "Ниже расположены три группы задач. Одни сложнее, другие легче. Но это всё относительно. \n",
    "\n",
    "\n",
    "Было бы здорово, если вы смогли:\n",
    "- в первом блоке задач решить 6 из 8 задач\n",
    "- во втором 5 из 8\n",
    "- в третьем не менее 1 задачи из 4"
   ]
  },
  {
   "attachments": {},
   "cell_type": "markdown",
   "id": "4fdc04be-c869-49e1-ab78-6855edd0a936",
   "metadata": {},
   "source": [
    "Но не забывайте, это лишь возможность проверить ваши возможности и навыки. \"Не решение\" задач или \"решение всех задач\" не говорит о ваших способностях, только о том, что нужно чуть больше времени потратить на практику и изучение того, что вы ещё не знаете по каким-то причинам. Помните, что всегда можно спросить в чате совета! "
   ]
  },
  {
   "attachments": {},
   "cell_type": "markdown",
   "id": "1bda06c8-6e8f-4997-a766-cfa29b65e0f5",
   "metadata": {
    "tags": []
   },
   "source": [
    "Оформлять ответы нужно в стиле как показано ниже, не обязательно дословно, но в похожем:\n",
    "\n"
   ]
  },
  {
   "attachments": {},
   "cell_type": "markdown",
   "id": "93af72d1-4b73-46ba-8c96-ca86e504e8f7",
   "metadata": {},
   "source": [
    "____"
   ]
  },
  {
   "attachments": {},
   "cell_type": "markdown",
   "id": "178d50d3-6e0e-4b32-a223-78d5996a3471",
   "metadata": {},
   "source": [
    "https://www.codewars.com/kata/sum_of_two"
   ]
  },
  {
   "cell_type": "code",
   "execution_count": 1,
   "id": "6c806656-1137-4072-95e7-2914cbaa3eae",
   "metadata": {
    "tags": []
   },
   "outputs": [
    {
     "data": {
      "text/plain": [
       "True"
      ]
     },
     "execution_count": 1,
     "metadata": {},
     "output_type": "execute_result"
    }
   ],
   "source": [
    "# решение:\n",
    "\n",
    "def sum_of_two(first, second):\n",
    "    return first + second\n",
    "\n",
    "test_arg_1 = 40\n",
    "test_arg_2 = 2\n",
    "test_answer = 42\n",
    "\n",
    "sum_of_two(test_arg_1, test_arg_2) == test_answer"
   ]
  },
  {
   "attachments": {},
   "cell_type": "markdown",
   "id": "738dd9da-f3ec-4d9e-bcec-02003e313c7f",
   "metadata": {},
   "source": [
    "____"
   ]
  },
  {
   "attachments": {},
   "cell_type": "markdown",
   "id": "aa4d7911-8873-44da-861f-846a947a8761",
   "metadata": {
    "tags": []
   },
   "source": [
    "## \"Простые задачи\""
   ]
  },
  {
   "attachments": {},
   "cell_type": "markdown",
   "id": "9344fd5e-4350-49f1-91c2-f821484bcfc8",
   "metadata": {},
   "source": [
    "https://www.codewars.com/kata/56efc695740d30f963000557"
   ]
  },
  {
   "cell_type": "code",
   "execution_count": 166,
   "id": "df42b0da-9cb7-4f54-bca9-b96f249a0854",
   "metadata": {
    "tags": []
   },
   "outputs": [
    {
     "name": "stdout",
     "output_type": "stream",
     "text": [
      "True\n",
      "True\n",
      "True\n",
      "True\n",
      "True\n",
      "True\n"
     ]
    }
   ],
   "source": [
    "def to_alternating_case(string):\n",
    "    # first version\n",
    "    # result = ''\n",
    "    # for char in string:\n",
    "    #     if isinstance(char, str) and char.islower():\n",
    "    #         result += char.upper()\n",
    "    #     elif isinstance(char, str) and not char.islower():\n",
    "    #         result += char.lower()\n",
    "    #     else:\n",
    "    #         result += char\n",
    "    \n",
    "    # after refactoring\n",
    "    result = ''\n",
    "    for char in string:\n",
    "        result += (char.upper() if isinstance(char, str) and char.islower() else char.lower())\n",
    "    return result\n",
    "\n",
    "print(to_alternating_case('hello world') == \"HELLO WORLD\")\n",
    "print(to_alternating_case('HELLO WORLD') == \"hello world\")\n",
    "print(to_alternating_case('hello WORLD') == \"HELLO world\")\n",
    "print(to_alternating_case('HeLLo WoRLD') == \"hEllO wOrld\")\n",
    "print(to_alternating_case('12345') == \"12345\")\n",
    "print(to_alternating_case('1a2b3c4d5e') == \"1A2B3C4D5E\")"
   ]
  },
  {
   "attachments": {},
   "cell_type": "markdown",
   "id": "a86058b6-d00e-4f58-915a-c66a8f64cb0a",
   "metadata": {},
   "source": [
    "https://www.codewars.com/kata/58b8c94b7df3f116eb00005b\n"
   ]
  },
  {
   "cell_type": "code",
   "execution_count": 1,
   "id": "4c298acf-229b-4703-8a70-9e3aac53d079",
   "metadata": {},
   "outputs": [
    {
     "name": "stdout",
     "output_type": "stream",
     "text": [
      "True\n",
      "True\n",
      "True\n",
      "True\n"
     ]
    }
   ],
   "source": [
    "# ваше решение:\n",
    "import re\n",
    "\n",
    "def reverse_letter(string):\n",
    "    result = re.findall('[a-zA-Z]', string)\n",
    "    return ''.join(result)[::-1]\n",
    "    \n",
    "print(reverse_letter(\"krishan\") == \"nahsirk\")\n",
    "print(reverse_letter(\"ultr53o?n\") == \"nortlu\")\n",
    "print(reverse_letter(\"ab23c\") == \"cba\")\n",
    "print(reverse_letter(\"krish21an\") == \"nahsirk\")"
   ]
  },
  {
   "attachments": {},
   "cell_type": "markdown",
   "id": "99cb0252-b1bb-4891-b902-b365397ab885",
   "metadata": {},
   "source": [
    "https://www.codewars.com/kata/51c8991dee245d7ddf00000e\n"
   ]
  },
  {
   "cell_type": "code",
   "execution_count": 20,
   "id": "1155460e-c87e-42f1-a487-fa97fa435802",
   "metadata": {},
   "outputs": [
    {
     "name": "stdout",
     "output_type": "stream",
     "text": [
      "True\n",
      "True\n"
     ]
    }
   ],
   "source": [
    "# ваше решение:\n",
    "def reverse_words(s):\n",
    "    return ' '.join(s.split()[::-1])\n",
    "\n",
    "print(reverse_words(\"The greatest victory is that which requires no battle\") == \"battle no requires which that is victory greatest The\")\n",
    "print(reverse_words(\"hello world!\") == \"world! hello\")"
   ]
  },
  {
   "attachments": {},
   "cell_type": "markdown",
   "id": "fdbf89ec-043b-4523-a73d-ad7f9450726c",
   "metadata": {},
   "source": [
    "https://www.codewars.com/kata/57a1fd2ce298a731b20006a4\n"
   ]
  },
  {
   "cell_type": "code",
   "execution_count": 38,
   "id": "60b983ba-078b-4559-a2e8-3c9efb3725f4",
   "metadata": {},
   "outputs": [
    {
     "name": "stdout",
     "output_type": "stream",
     "text": [
      "True\n",
      "True\n",
      "True\n",
      "True\n",
      "True\n",
      "True\n",
      "True\n"
     ]
    }
   ],
   "source": [
    "# ваше решение:\n",
    "def is_palindrome(s):\n",
    "    return s.lower() == s[::-1].lower()\n",
    "\n",
    "print(is_palindrome('Kasue') == False)\n",
    "print(is_palindrome('kodok') == True)\n",
    "print(is_palindrome('walter') == False)\n",
    "print(is_palindrome('malam') == True)\n",
    "print(is_palindrome('Abba') == True)\n",
    "print(is_palindrome('aba') == True)\n",
    "print(is_palindrome('a') == True)"
   ]
  },
  {
   "attachments": {},
   "cell_type": "markdown",
   "id": "b06e65c0-20f9-4e4d-9748-d5c301541e63",
   "metadata": {},
   "source": [
    "https://www.codewars.com/kata/515e271a311df0350d00000f\n"
   ]
  },
  {
   "cell_type": "code",
   "execution_count": 39,
   "id": "c63c199e-433e-40f2-93ff-d04e17c5d9f2",
   "metadata": {},
   "outputs": [
    {
     "name": "stdout",
     "output_type": "stream",
     "text": [
      "True\n",
      "True\n",
      "True\n",
      "True\n",
      "True\n"
     ]
    }
   ],
   "source": [
    "# ваше решение:\n",
    "def square_sum(numbers):\n",
    "    result = [i**2 for i in numbers]\n",
    "    return sum(result)\n",
    "    \n",
    "print(square_sum([1,2]) == 5)\n",
    "print(square_sum([0, 3, 4, 5]) == 50)\n",
    "print(square_sum([]) == 0)\n",
    "print(square_sum([-1,-2]) == 5)\n",
    "print(square_sum([-1,0,1]) == 2)"
   ]
  },
  {
   "attachments": {},
   "cell_type": "markdown",
   "id": "48e1d03d-298f-4a75-9ee1-8b0070503536",
   "metadata": {},
   "source": [
    "https://www.codewars.com/kata/5a145ab08ba9148dd6000094\n"
   ]
  },
  {
   "cell_type": "code",
   "execution_count": 70,
   "id": "3d9bfad9-0bf3-4cf4-916a-301174bdb434",
   "metadata": {},
   "outputs": [
    {
     "name": "stdout",
     "output_type": "stream",
     "text": [
      "abzzabzzabzzabbbabbb\n"
     ]
    }
   ],
   "source": [
    "# ваше решение:\n",
    "def doubles(s):\n",
    "    result = ''\n",
    "    current_char = ''\n",
    "    next_char = ''\n",
    "    \n",
    "    for char in s:\n",
    "        current_char = char\n",
    "        next_char = s[s.index(char) + 1]\n",
    "        \n",
    "        if current_char == next_char:\n",
    "            result += s.replace(current_char + next_char, '')\n",
    "        else:\n",
    "            result += doubles(result)\n",
    "    \n",
    "    return result       \n",
    "\n",
    "print(doubles('abbbzz'))\n",
    "\n",
    "# print(doubles('abbbzz') == 'ab')\n",
    "# print(doubles('zzzzykkkd') == 'ykd')\n",
    "# print(doubles('abbcccdddda') == 'aca')\n",
    "# print(doubles('vvvvvoiiiiin') == 'voin')\n",
    "# print(doubles('rrrmooomqqqqj') == 'rmomj')\n",
    "# print(doubles('xxbnnnnnyaaaaam') == 'bnyam') "
   ]
  },
  {
   "attachments": {},
   "cell_type": "markdown",
   "id": "3b61766c-1b8c-4891-a048-ac68ecb46cb5",
   "metadata": {},
   "source": [
    "https://www.codewars.com/kata/5d5ee4c35162d9001af7d699\n"
   ]
  },
  {
   "cell_type": "code",
   "execution_count": 71,
   "id": "2cffcf8e-d2b3-414b-8842-a13e1c6622fd",
   "metadata": {},
   "outputs": [],
   "source": [
    "# ваше решение:\n"
   ]
  },
  {
   "attachments": {},
   "cell_type": "markdown",
   "id": "4182fe44-14a6-417b-ae11-ebea77b6ade6",
   "metadata": {},
   "source": [
    "https://www.codewars.com/kata/52829c5fe08baf7edc00122b"
   ]
  },
  {
   "cell_type": "code",
   "execution_count": 72,
   "id": "011fc697-bdd6-48d0-b93a-27998ade29b6",
   "metadata": {},
   "outputs": [],
   "source": [
    "# ваше решение:\n"
   ]
  },
  {
   "attachments": {},
   "cell_type": "markdown",
   "id": "2acd4b58-5a9e-4e55-bc82-072b9e72895c",
   "metadata": {},
   "source": [
    "## \"Средние задачи\""
   ]
  },
  {
   "attachments": {},
   "cell_type": "markdown",
   "id": "9e5d15fe-ad8d-4f03-81d5-8c4d5b76c8aa",
   "metadata": {},
   "source": [
    "https://www.codewars.com/kata/53d32bea2f2a21f666000256\n"
   ]
  },
  {
   "cell_type": "code",
   "execution_count": 73,
   "id": "46a8c7ad-fb2d-4606-8de4-b12eb5e236d4",
   "metadata": {},
   "outputs": [],
   "source": [
    "# ваше решение:\n"
   ]
  },
  {
   "attachments": {},
   "cell_type": "markdown",
   "id": "8074e6ba-1a2c-450c-b14c-c47d91955b21",
   "metadata": {},
   "source": [
    "https://www.codewars.com/kata/57a06005cf1fa5fbd5000216"
   ]
  },
  {
   "cell_type": "code",
   "execution_count": 74,
   "id": "ff112bc6-a6e3-4c8c-9cc2-472b8c093663",
   "metadata": {},
   "outputs": [],
   "source": [
    "# ваше решение:\n"
   ]
  },
  {
   "attachments": {},
   "cell_type": "markdown",
   "id": "10c8c15d-5590-4a32-a2db-0eb4768b9a9f",
   "metadata": {},
   "source": [
    "https://www.codewars.com/kata/598f76a44f613e0e0b000026"
   ]
  },
  {
   "cell_type": "code",
   "execution_count": 75,
   "id": "e6968e30-8fe9-41e3-ab8c-5f5915d7a933",
   "metadata": {},
   "outputs": [],
   "source": [
    "# ваше решение:\n"
   ]
  },
  {
   "attachments": {},
   "cell_type": "markdown",
   "id": "48d23ea5-2908-468f-9ed7-11d65855d2c5",
   "metadata": {},
   "source": [
    "https://www.codewars.com/kata/54ff3102c1bad923760001f3"
   ]
  },
  {
   "cell_type": "code",
   "execution_count": 76,
   "id": "ca002952-3f98-4b58-b2cb-70f6a02f377a",
   "metadata": {},
   "outputs": [],
   "source": [
    "# ваше решение:\n"
   ]
  },
  {
   "attachments": {},
   "cell_type": "markdown",
   "id": "4d1d7330-a770-4abe-b62b-fab9d86f7cda",
   "metadata": {},
   "source": [
    "https://www.codewars.com/kata/56a24b4d9f3671584d000039"
   ]
  },
  {
   "cell_type": "code",
   "execution_count": 77,
   "id": "8d5a4f50-ed6e-44e1-97a6-b34ecd70c4be",
   "metadata": {},
   "outputs": [],
   "source": [
    "# ваше решение:\n"
   ]
  },
  {
   "attachments": {},
   "cell_type": "markdown",
   "id": "0c10e320-7215-4f67-be64-166a72ad4a66",
   "metadata": {},
   "source": [
    "https://www.codewars.com/kata/5a29a0898f27f2d9c9000058"
   ]
  },
  {
   "cell_type": "code",
   "execution_count": 78,
   "id": "0bee38be-1deb-4242-86f8-de6675e59785",
   "metadata": {},
   "outputs": [],
   "source": [
    "# ваше решение:\n"
   ]
  },
  {
   "attachments": {},
   "cell_type": "markdown",
   "id": "c25c69af-5160-4ae7-9112-d67e19354174",
   "metadata": {},
   "source": [
    "https://www.codewars.com/kata/57873ab5e55533a2890000c7\n"
   ]
  },
  {
   "cell_type": "code",
   "execution_count": 79,
   "id": "190a0379-2d20-471c-904d-030a39d6d9ee",
   "metadata": {},
   "outputs": [],
   "source": [
    "# ваше решение:\n"
   ]
  },
  {
   "attachments": {},
   "cell_type": "markdown",
   "id": "bfd5947e-b92e-4c2b-8730-bef87f6d8998",
   "metadata": {},
   "source": [
    "https://www.codewars.com/kata/563d59dd8e47a5ed220000ba"
   ]
  },
  {
   "cell_type": "code",
   "execution_count": 80,
   "id": "b534308d-cb3b-4fb7-8385-a5ab0aa8e9f2",
   "metadata": {},
   "outputs": [],
   "source": [
    "# ваше решение:\n"
   ]
  },
  {
   "attachments": {},
   "cell_type": "markdown",
   "id": "0b84504d-553b-4a7c-baa6-bdd134448f4b",
   "metadata": {},
   "source": [
    "## \"Сложные задачи\""
   ]
  },
  {
   "attachments": {},
   "cell_type": "markdown",
   "id": "68a2e7f2-c078-42f9-8422-19bbcc61bafc",
   "metadata": {},
   "source": [
    "https://leetcode.com/problems/palindrome-number\n"
   ]
  },
  {
   "cell_type": "code",
   "execution_count": 81,
   "id": "78607444-4dcf-46e2-9b8a-f53679a0945e",
   "metadata": {},
   "outputs": [],
   "source": [
    "# ваше решение:\n"
   ]
  },
  {
   "attachments": {},
   "cell_type": "markdown",
   "id": "cac4e6f2-9e05-4665-8545-d22d2567c91f",
   "metadata": {},
   "source": [
    "https://www.codewars.com/kata/5e60cdcd01712200335bd676\n"
   ]
  },
  {
   "cell_type": "code",
   "execution_count": 82,
   "id": "338c2ed0-5ffd-4452-b682-8ddfc8107722",
   "metadata": {},
   "outputs": [],
   "source": [
    "# ваше решение:\n"
   ]
  },
  {
   "attachments": {},
   "cell_type": "markdown",
   "id": "d819f5e0-4796-491e-a29c-b767518d7815",
   "metadata": {},
   "source": [
    "https://www.codewars.com/kata/5b02ae6aa2afd8f1b4001ba4\n"
   ]
  },
  {
   "cell_type": "code",
   "execution_count": 83,
   "id": "a1c36270-9049-495f-aab5-1bad0c6c46c3",
   "metadata": {},
   "outputs": [],
   "source": [
    "# ваше решение:\n"
   ]
  },
  {
   "attachments": {},
   "cell_type": "markdown",
   "id": "7b24b881-e54c-4440-8b3c-b710a976982d",
   "metadata": {},
   "source": [
    "https://www.codewars.com/kata/550554fd08b86f84fe000a58"
   ]
  },
  {
   "cell_type": "code",
   "execution_count": 84,
   "id": "fb796606-ee85-4f32-8556-91112caafaa4",
   "metadata": {
    "tags": []
   },
   "outputs": [],
   "source": [
    "# ваше решение:\n"
   ]
  }
 ],
 "metadata": {
  "kernelspec": {
   "display_name": "Python 3 (ipykernel)",
   "language": "python",
   "name": "python3"
  },
  "language_info": {
   "codemirror_mode": {
    "name": "ipython",
    "version": 3
   },
   "file_extension": ".py",
   "mimetype": "text/x-python",
   "name": "python",
   "nbconvert_exporter": "python",
   "pygments_lexer": "ipython3",
   "version": "3.11.0"
  }
 },
 "nbformat": 4,
 "nbformat_minor": 5
}
